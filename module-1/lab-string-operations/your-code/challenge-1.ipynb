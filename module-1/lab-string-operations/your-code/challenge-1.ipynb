{
 "cells": [
  {
   "cell_type": "markdown",
   "metadata": {},
   "source": [
    "# String Operations Lab\n",
    "\n",
    "**Before your start:**\n",
    "\n",
    "- Read the README.md file\n",
    "- Comment as much as you can and use the resources in the README.md file\n",
    "- Happy learning!"
   ]
  },
  {
   "cell_type": "code",
   "execution_count": 1,
   "metadata": {},
   "outputs": [],
   "source": [
    "import re"
   ]
  },
  {
   "cell_type": "markdown",
   "metadata": {},
   "source": [
    "# Challenge 1 - Combining Strings\n",
    "\n",
    "Combining strings is an important skill to acquire. There are multiple ways of combining strings in Python, as well as combining strings with variables. We will explore this in the first challenge. In the cell below, combine the strings in the list and add spaces between the strings (do not add a space after the last string). Insert a period after the last string."
   ]
  },
  {
   "cell_type": "code",
   "execution_count": 9,
   "metadata": {},
   "outputs": [
    {
     "name": "stdout",
     "output_type": "stream",
     "text": [
      "Durante un tiempo no estuvo segura de si su marido era su marido.\n"
     ]
    }
   ],
   "source": [
    "str_list = ['Durante', 'un', 'tiempo', 'no', 'estuvo', 'segura', 'de', 'si', 'su', 'marido', 'era', 'su', 'marido']\n",
    "# Your code here:\n",
    "\n",
    "print(' '.join(str_list) + '.') #det kan vara bra att inte hålla på med funktioner i outputen"
   ]
  },
  {
   "cell_type": "markdown",
   "metadata": {},
   "source": [
    "In the cell below, use the list of strings to create a grocery list. Start the list with the string `Grocery list: ` and include a comma and a space between each item except for the last one. Include a period at the end. Only include foods in the list that start with the letter 'b' and ensure all foods are lower case."
   ]
  },
  {
   "cell_type": "code",
   "execution_count": 3,
   "metadata": {},
   "outputs": [
    {
     "name": "stdout",
     "output_type": "stream",
     "text": [
      "['bananas', 'bread', 'brownie mix', 'broccoli']\n",
      "Grocery list: bananas, bread, brownie mix, broccoli.\n"
     ]
    }
   ],
   "source": [
    "food_list = ['Bananas', 'Chocolate', 'bread', 'diapers', 'Ice Cream', 'Brownie Mix', 'broccoli']\n",
    "\n",
    "groceries = [foods.lower() for foods in food_list  if foods.startswith('b') or foods.startswith('B')]\n",
    "\n",
    "\n",
    "print('Grocery list: ' + ', '.join(groceries) + '.')    "
   ]
  },
  {
   "cell_type": "markdown",
   "metadata": {},
   "source": [
    "In the cell below, write a function that computes the area of a circle using its radius. Compute the area of the circle and insert the radius and the area between the two strings. Make sure to include spaces between the variable and the strings. \n",
    "\n",
    "Note: You can use the techniques we have learned so far or use f-strings. F-strings allow us to embed code inside strings. You can read more about f-strings [here](https://www.python.org/dev/peps/pep-0498/)."
   ]
  },
  {
   "cell_type": "code",
   "execution_count": 111,
   "metadata": {},
   "outputs": [
    {
     "name": "stdout",
     "output_type": "stream",
     "text": [
      "The area of the circle with radius: 4.5 is: 63.62\n"
     ]
    }
   ],
   "source": [
    "import math\n",
    "\n",
    "string1 = \"The area of the circle with radius:\"\n",
    "string2  = \"is:\"\n",
    "radius = 4.5\n",
    "    \n",
    "    # This function takes a radius and returns the area of a circle. We also pass a default value for pi.\n",
    "    \n",
    "def area(x, pi = math.pi):\n",
    "    A = pi*radius**2\n",
    "    return (float(A)) \n",
    "\n",
    "area(5.0)\n",
    "    \n",
    "# Your output string here:\n",
    "print(string1, radius, string2, round(area(radius), 2))\n",
    "\n",
    "# eller: f\"{string1} {radius} {string2} {area(radius)}\n",
    "# eller: \"the area of the circle with radius {} is; {}.format(radius,area(radius))\"\n"
   ]
  },
  {
   "cell_type": "markdown",
   "metadata": {},
   "source": [
    "# Challenge 2 - Splitting Strings\n",
    "\n",
    "We have first looked at combining strings into one long string. There are times where we need to do the opposite and split the string into smaller components for further analysis. \n",
    "\n",
    "In the cell below, split the string into a list of strings using the space delimiter. Count the frequency of each word in the string in a dictionary. Strip the periods, line breaks and commas from the text. Make sure to remove empty strings from your dictionary."
   ]
  },
  {
   "cell_type": "code",
   "execution_count": 283,
   "metadata": {},
   "outputs": [
    {
     "name": "stdout",
     "output_type": "stream",
     "text": [
      "{0: ('some', 2),\n",
      " 1: ('say', 3),\n",
      " 2: ('the', 1),\n",
      " 3: ('world', 1),\n",
      " 4: ('will', 1),\n",
      " 5: ('end', 1),\n",
      " 6: ('in', 2),\n",
      " 7: ('fire', 2),\n",
      " 8: ('some', 2),\n",
      " 9: ('say', 3),\n",
      " 10: ('in', 2),\n",
      " 11: ('ice', 2),\n",
      " 12: ('from', 1),\n",
      " 13: ('what', 1),\n",
      " 14: ('i’ve', 1),\n",
      " 15: ('tasted', 1),\n",
      " 16: ('of', 2),\n",
      " 17: ('desire', 1),\n",
      " 18: ('i', 3),\n",
      " 19: ('hold', 1),\n",
      " 20: ('with', 1),\n",
      " 21: ('those', 1),\n",
      " 22: ('who', 1),\n",
      " 23: ('favor', 1),\n",
      " 24: ('fire', 2),\n",
      " 25: ('but', 1),\n",
      " 26: ('if', 1),\n",
      " 27: ('it', 1),\n",
      " 28: ('had', 1),\n",
      " 29: ('to', 2),\n",
      " 30: ('perish', 1),\n",
      " 31: ('twice', 1),\n",
      " 32: ('i', 3),\n",
      " 33: ('think', 1),\n",
      " 34: ('i', 3),\n",
      " 35: ('know', 1),\n",
      " 36: ('enough', 1),\n",
      " 37: ('of', 2),\n",
      " 38: ('hate', 1),\n",
      " 39: ('to', 2),\n",
      " 40: ('say', 3),\n",
      " 41: ('that', 1),\n",
      " 42: ('for', 1),\n",
      " 43: ('destruction', 1),\n",
      " 44: ('ice', 2),\n",
      " 45: ('is', 1),\n",
      " 46: ('also', 1),\n",
      " 47: ('great', 1),\n",
      " 48: ('and', 1),\n",
      " 49: ('would', 1),\n",
      " 50: ('suffice', 1)}\n"
     ]
    }
   ],
   "source": [
    "poem = \"\"\"Some say the world will end in fire,\n",
    "Some say in ice.\n",
    "From what I’ve tasted of desire\n",
    "I hold with those who favor fire.\n",
    "But if it had to perish twice,\n",
    "I think I know enough of hate\n",
    "To say that for destruction ice\n",
    "Is also great\n",
    "And would suffice.\"\"\"\n",
    "\n",
    "# Your code here:\n",
    "\n",
    "poem1 = (poem.replace(\".\",\"\")) #dethär kan man göra på en rad poem1 = (poem.replace(\".\",\"\")).replace(\",\",\"\")...\n",
    "poem2 = (poem1.replace(\",\",\"\")).lower() \n",
    "plst = poem2.split()\n",
    "\n",
    "freq = []\n",
    "for x in plst:\n",
    "    freq.append(plst.count(x))\n",
    "\n",
    "dictionary = { }\n",
    "n=-1\n",
    "for x in plst:\n",
    "    n += 1\n",
    "    dictionary[n] = (x, freq[n])\n",
    "\n",
    "from pprint import pprint \n",
    "pprint(dictionary)"
   ]
  },
  {
   "cell_type": "markdown",
   "metadata": {},
   "source": [
    "In the cell below, find all the words that appear in the text and do not appear in the blacklist. You must parse the string but can choose any data structure you wish for the words that do not appear in the blacklist. Remove all non letter characters and convert all words to lower case."
   ]
  },
  {
   "cell_type": "code",
   "execution_count": 285,
   "metadata": {},
   "outputs": [
    {
     "data": {
      "text/plain": [
       "[{'angry',\n",
       "  'apple',\n",
       "  'beheld',\n",
       "  'beneath',\n",
       "  'bore',\n",
       "  'both',\n",
       "  'bright',\n",
       "  'day',\n",
       "  'deceitful',\n",
       "  'did',\n",
       "  'end',\n",
       "  'fears',\n",
       "  'foe',\n",
       "  'friend',\n",
       "  'garden',\n",
       "  'glad',\n",
       "  'grew',\n",
       "  'grow',\n",
       "  'had',\n",
       "  'he',\n",
       "  'i',\n",
       "  'into',\n",
       "  'knew',\n",
       "  'mine',\n",
       "  'morning',\n",
       "  'my',\n",
       "  'night',\n",
       "  'not',\n",
       "  'outstretched',\n",
       "  'pole',\n",
       "  'see',\n",
       "  'shine',\n",
       "  'smiles',\n",
       "  'soft',\n",
       "  'stole',\n",
       "  'sunned',\n",
       "  'tears',\n",
       "  'that',\n",
       "  'till',\n",
       "  'told',\n",
       "  'tree',\n",
       "  'veild',\n",
       "  'was',\n",
       "  'waterd',\n",
       "  'when',\n",
       "  'wiles',\n",
       "  'with',\n",
       "  'wrath'}]"
      ]
     },
     "execution_count": 285,
     "metadata": {},
     "output_type": "execute_result"
    }
   ],
   "source": [
    "blacklist = ['and', 'as', 'an', 'a', 'the', 'in', 'it']\n",
    "\n",
    "poem = \"\"\"I was angry with my friend; \n",
    "I told my wrath, my wrath did end.\n",
    "I was angry with my foe: \n",
    "I told it not, my wrath did grow. \n",
    "\n",
    "And I waterd it in fears,\n",
    "Night & morning with my tears: \n",
    "And I sunned it with smiles,\n",
    "And with soft deceitful wiles. \n",
    "\n",
    "And it grew both day and night. \n",
    "Till it bore an apple bright. \n",
    "And my foe beheld it shine,\n",
    "And he knew that it was mine. \n",
    "\n",
    "And into my garden stole, \n",
    "When the night had veild the pole; \n",
    "In the morning glad I see; \n",
    "My foe outstretched beneath the tree.\"\"\"\n",
    "\n",
    "# Your code here:\n",
    "\n",
    "poem1 = (poem.replace(\".\",\"\"))\n",
    "poem2 = (poem1.replace(\",\",\"\"))\n",
    "poem3 = (poem2.replace(\":\",\"\"))\n",
    "poem4 = (poem3.replace(\";\",\"\"))\n",
    "poem5 = (poem4.replace(\"&\",\"\")).lower()\n",
    "poem = poem5\n",
    "\n",
    "poemList = set(poem.split())\n",
    "\n",
    "poemList\n",
    "words = [poemList - poemList.intersection(blacklist)]\n",
    "words #det här funkar bara i jupyter notebook, annars använd pprint eller print\n"
   ]
  },
  {
   "cell_type": "markdown",
   "metadata": {},
   "source": [
    "# Challenge 3 - Regular Expressions\n",
    "\n",
    "Sometimes, we would like to perform more complex manipulations of our string. This is where regular expressions come in handy. In the cell below, return all characters that are upper case from the string specified below."
   ]
  },
  {
   "cell_type": "code",
   "execution_count": 9,
   "metadata": {},
   "outputs": [
    {
     "name": "stdout",
     "output_type": "stream",
     "text": [
      "['T', 'P']\n"
     ]
    }
   ],
   "source": [
    "poem = \"\"\"The apparition of these faces in the crowd;\n",
    "Petals on a wet, black bough.\"\"\"\n",
    "\n",
    "# Your code here:\n",
    "\n",
    "print(re.findall(\"[A-Z]\", poem))\n",
    "\n"
   ]
  },
  {
   "cell_type": "markdown",
   "metadata": {},
   "source": [
    "In the cell below, filter the list provided and return all elements of the list containing a number. To filter the list, use the `re.search` function. Check if the function does not return `None`. You can read more about the `re.search` function [here](https://docs.python.org/3/library/re.html)."
   ]
  },
  {
   "cell_type": "code",
   "execution_count": 12,
   "metadata": {},
   "outputs": [
    {
     "name": "stdout",
     "output_type": "stream",
     "text": [
      "['123abc', 'abc123', 'JohnSmith1', 'ABBY4']\n"
     ]
    }
   ],
   "source": [
    "data = ['123abc', 'abc123', 'JohnSmith1', 'ABBY4', 'JANE']\n",
    "\n",
    "# Your code here:\n",
    "\n",
    "filtered = []\n",
    "\n",
    "for x in data:\n",
    "    if re.search(\"\\d\", x) is not None:\n",
    "        filtered.append(x)\n",
    "\n",
    "print(filtered)"
   ]
  },
  {
   "cell_type": "markdown",
   "metadata": {},
   "source": [
    "# Bonus Challenge - Regular Expressions II\n",
    "\n",
    "In the cell below, filter the list provided to keep only strings containing at least one digit and at least one lower case letter. As in the previous question, use the `re.search` function and check that the result is not `None`.\n",
    "\n",
    "To read more about regular expressions, check out [this link](https://developers.google.com/edu/python/regular-expressions)."
   ]
  },
  {
   "cell_type": "code",
   "execution_count": 13,
   "metadata": {},
   "outputs": [
    {
     "name": "stdout",
     "output_type": "stream",
     "text": [
      "['123abc', 'abc123', 'JohnSmith1']\n"
     ]
    }
   ],
   "source": [
    "data = ['123abc', 'abc123', 'JohnSmith1', 'ABBY4', 'JANE']\n",
    "\n",
    "# Your code here:\n",
    "\n",
    "filtered_2 = []\n",
    "    \n",
    "for x in data:\n",
    "    if re.search(\"[0-9][a-z]|[a-z][0-9]\", x) is not None:\n",
    "        filtered_2.append(x)\n",
    "\n",
    "print(filtered_2)\n"
   ]
  }
 ],
 "metadata": {
  "kernelspec": {
   "display_name": "Python 3",
   "language": "python",
   "name": "python3"
  },
  "language_info": {
   "codemirror_mode": {
    "name": "ipython",
    "version": 3
   },
   "file_extension": ".py",
   "mimetype": "text/x-python",
   "name": "python",
   "nbconvert_exporter": "python",
   "pygments_lexer": "ipython3",
   "version": "3.7.3"
  }
 },
 "nbformat": 4,
 "nbformat_minor": 2
}
