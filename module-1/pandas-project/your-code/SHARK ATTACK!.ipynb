{
 "cells": [
  {
   "cell_type": "code",
   "execution_count": 9,
   "metadata": {},
   "outputs": [],
   "source": [
    "import pandas as pd\n",
    "import random as rd \n",
    "df = pd.read_csv('GSAF5.csv', encoding = 'iso8859-1')"
   ]
  },
  {
   "cell_type": "code",
   "execution_count": 10,
   "metadata": {},
   "outputs": [
    {
     "data": {
      "text/html": [
       "<div>\n",
       "<style scoped>\n",
       "    .dataframe tbody tr th:only-of-type {\n",
       "        vertical-align: middle;\n",
       "    }\n",
       "\n",
       "    .dataframe tbody tr th {\n",
       "        vertical-align: top;\n",
       "    }\n",
       "\n",
       "    .dataframe thead th {\n",
       "        text-align: right;\n",
       "    }\n",
       "</style>\n",
       "<table border=\"1\" class=\"dataframe\">\n",
       "  <thead>\n",
       "    <tr style=\"text-align: right;\">\n",
       "      <th></th>\n",
       "      <th>Case Number</th>\n",
       "      <th>Date</th>\n",
       "      <th>Year</th>\n",
       "      <th>Type</th>\n",
       "      <th>Country</th>\n",
       "      <th>Area</th>\n",
       "      <th>Location</th>\n",
       "      <th>Activity</th>\n",
       "      <th>Name</th>\n",
       "      <th>Sex</th>\n",
       "      <th>...</th>\n",
       "      <th>Species</th>\n",
       "      <th>Investigator or Source</th>\n",
       "      <th>pdf</th>\n",
       "      <th>href formula</th>\n",
       "      <th>href</th>\n",
       "      <th>Case Number.1</th>\n",
       "      <th>Case Number.2</th>\n",
       "      <th>original order</th>\n",
       "      <th>Unnamed: 22</th>\n",
       "      <th>Unnamed: 23</th>\n",
       "    </tr>\n",
       "  </thead>\n",
       "  <tbody>\n",
       "    <tr>\n",
       "      <th>0</th>\n",
       "      <td>2016.09.18.c</td>\n",
       "      <td>18-Sep-16</td>\n",
       "      <td>2016</td>\n",
       "      <td>Unprovoked</td>\n",
       "      <td>USA</td>\n",
       "      <td>Florida</td>\n",
       "      <td>New Smyrna Beach, Volusia County</td>\n",
       "      <td>Surfing</td>\n",
       "      <td>male</td>\n",
       "      <td>M</td>\n",
       "      <td>...</td>\n",
       "      <td>NaN</td>\n",
       "      <td>Orlando Sentinel, 9/19/2016</td>\n",
       "      <td>2016.09.18.c-NSB.pdf</td>\n",
       "      <td>http://sharkattackfile.net/spreadsheets/pdf_di...</td>\n",
       "      <td>http://sharkattackfile.net/spreadsheets/pdf_di...</td>\n",
       "      <td>2016.09.18.c</td>\n",
       "      <td>2016.09.18.c</td>\n",
       "      <td>5993</td>\n",
       "      <td>NaN</td>\n",
       "      <td>NaN</td>\n",
       "    </tr>\n",
       "    <tr>\n",
       "      <th>1</th>\n",
       "      <td>2016.09.18.b</td>\n",
       "      <td>18-Sep-16</td>\n",
       "      <td>2016</td>\n",
       "      <td>Unprovoked</td>\n",
       "      <td>USA</td>\n",
       "      <td>Florida</td>\n",
       "      <td>New Smyrna Beach, Volusia County</td>\n",
       "      <td>Surfing</td>\n",
       "      <td>Chucky Luciano</td>\n",
       "      <td>M</td>\n",
       "      <td>...</td>\n",
       "      <td>NaN</td>\n",
       "      <td>Orlando Sentinel, 9/19/2016</td>\n",
       "      <td>2016.09.18.b-Luciano.pdf</td>\n",
       "      <td>http://sharkattackfile.net/spreadsheets/pdf_di...</td>\n",
       "      <td>http://sharkattackfile.net/spreadsheets/pdf_di...</td>\n",
       "      <td>2016.09.18.b</td>\n",
       "      <td>2016.09.18.b</td>\n",
       "      <td>5992</td>\n",
       "      <td>NaN</td>\n",
       "      <td>NaN</td>\n",
       "    </tr>\n",
       "    <tr>\n",
       "      <th>2</th>\n",
       "      <td>2016.09.18.a</td>\n",
       "      <td>18-Sep-16</td>\n",
       "      <td>2016</td>\n",
       "      <td>Unprovoked</td>\n",
       "      <td>USA</td>\n",
       "      <td>Florida</td>\n",
       "      <td>New Smyrna Beach, Volusia County</td>\n",
       "      <td>Surfing</td>\n",
       "      <td>male</td>\n",
       "      <td>M</td>\n",
       "      <td>...</td>\n",
       "      <td>NaN</td>\n",
       "      <td>Orlando Sentinel, 9/19/2016</td>\n",
       "      <td>2016.09.18.a-NSB.pdf</td>\n",
       "      <td>http://sharkattackfile.net/spreadsheets/pdf_di...</td>\n",
       "      <td>http://sharkattackfile.net/spreadsheets/pdf_di...</td>\n",
       "      <td>2016.09.18.a</td>\n",
       "      <td>2016.09.18.a</td>\n",
       "      <td>5991</td>\n",
       "      <td>NaN</td>\n",
       "      <td>NaN</td>\n",
       "    </tr>\n",
       "  </tbody>\n",
       "</table>\n",
       "<p>3 rows × 24 columns</p>\n",
       "</div>"
      ],
      "text/plain": [
       "    Case Number       Date  Year        Type Country     Area  \\\n",
       "0  2016.09.18.c  18-Sep-16  2016  Unprovoked     USA  Florida   \n",
       "1  2016.09.18.b  18-Sep-16  2016  Unprovoked     USA  Florida   \n",
       "2  2016.09.18.a  18-Sep-16  2016  Unprovoked     USA  Florida   \n",
       "\n",
       "                           Location Activity            Name Sex   ...  \\\n",
       "0  New Smyrna Beach, Volusia County  Surfing            male    M  ...   \n",
       "1  New Smyrna Beach, Volusia County  Surfing  Chucky Luciano    M  ...   \n",
       "2  New Smyrna Beach, Volusia County  Surfing            male    M  ...   \n",
       "\n",
       "  Species        Investigator or Source                       pdf  \\\n",
       "0      NaN  Orlando Sentinel, 9/19/2016      2016.09.18.c-NSB.pdf   \n",
       "1      NaN  Orlando Sentinel, 9/19/2016  2016.09.18.b-Luciano.pdf   \n",
       "2      NaN  Orlando Sentinel, 9/19/2016      2016.09.18.a-NSB.pdf   \n",
       "\n",
       "                                        href formula  \\\n",
       "0  http://sharkattackfile.net/spreadsheets/pdf_di...   \n",
       "1  http://sharkattackfile.net/spreadsheets/pdf_di...   \n",
       "2  http://sharkattackfile.net/spreadsheets/pdf_di...   \n",
       "\n",
       "                                                href Case Number.1  \\\n",
       "0  http://sharkattackfile.net/spreadsheets/pdf_di...  2016.09.18.c   \n",
       "1  http://sharkattackfile.net/spreadsheets/pdf_di...  2016.09.18.b   \n",
       "2  http://sharkattackfile.net/spreadsheets/pdf_di...  2016.09.18.a   \n",
       "\n",
       "  Case Number.2 original order Unnamed: 22 Unnamed: 23  \n",
       "0  2016.09.18.c           5993         NaN         NaN  \n",
       "1  2016.09.18.b           5992         NaN         NaN  \n",
       "2  2016.09.18.a           5991         NaN         NaN  \n",
       "\n",
       "[3 rows x 24 columns]"
      ]
     },
     "execution_count": 10,
     "metadata": {},
     "output_type": "execute_result"
    }
   ],
   "source": [
    "df.head(3)"
   ]
  },
  {
   "cell_type": "code",
   "execution_count": 11,
   "metadata": {},
   "outputs": [],
   "source": [
    "# There are two columns that are unnnamed and contains no clear deta. I decided to gt rid of them right away..\n",
    "# also href and href formula seems to be duplicates. \n",
    "df = df.drop(['Unnamed: 22','Unnamed: 23', 'href'],  axis = 1)"
   ]
  },
  {
   "cell_type": "code",
   "execution_count": 12,
   "metadata": {},
   "outputs": [
    {
     "data": {
      "text/plain": [
       "Index(['Case Number', 'Date', 'Year', 'Type', 'Country', 'Area', 'Location',\n",
       "       'Activity', 'Name', 'Sex ', 'Age', 'Injury', 'Fatal (Y/N)', 'Time',\n",
       "       'Species ', 'Investigator or Source', 'pdf', 'href formula',\n",
       "       'Case Number.1', 'Case Number.2', 'original order'],\n",
       "      dtype='object')"
      ]
     },
     "execution_count": 12,
     "metadata": {},
     "output_type": "execute_result"
    }
   ],
   "source": [
    "#just to check if they are gone\n",
    "df.columns"
   ]
  },
  {
   "cell_type": "code",
   "execution_count": 13,
   "metadata": {},
   "outputs": [
    {
     "name": "stdout",
     "output_type": "stream",
     "text": [
      "Case Number                  0\n",
      "Date                         0\n",
      "Year                         0\n",
      "Type                         0\n",
      "Country                     43\n",
      "Area                       402\n",
      "Location                   496\n",
      "Activity                   527\n",
      "Name                       200\n",
      "Sex                        567\n",
      "Age                       2681\n",
      "Injury                      27\n",
      "Fatal (Y/N)                 19\n",
      "Time                      3213\n",
      "Species                   2934\n",
      "Investigator or Source      15\n",
      "pdf                          0\n",
      "href formula                 1\n",
      "Case Number.1                0\n",
      "Case Number.2                0\n",
      "original order               0\n",
      "dtype: int64\n",
      "total number of rows: 5992\n"
     ]
    }
   ],
   "source": [
    "#I want som information about the data and missing values.\n",
    "print (df.isnull().sum())\n",
    "total_rows = df['Case Number'].count()\n",
    "print('total number of rows:' , total_rows)"
   ]
  },
  {
   "cell_type": "code",
   "execution_count": 14,
   "metadata": {},
   "outputs": [],
   "source": [
    "''' There are som columns with quite alot of missing data. They dont seem to import as well, i dicided to drop them\n",
    "if more than half of the data in thoose columns is missing. '''\n",
    "\n",
    "for i in df.columns.values:\n",
    "    if (df[i].isnull().sum() / total_rows > 0.5):\n",
    "        df = df.drop([i], axis = 1)"
   ]
  },
  {
   "cell_type": "code",
   "execution_count": 15,
   "metadata": {
    "scrolled": true
   },
   "outputs": [],
   "source": [
    "# The column for href formula has only one value missing. I decided to get rid of that row.\n",
    "df = df[df['href formula'].notnull()]        "
   ]
  },
  {
   "cell_type": "code",
   "execution_count": 16,
   "metadata": {},
   "outputs": [],
   "source": [
    "# I also want to drop columns that has at least three values missing. \n",
    "df = df.dropna(axis = 0, thresh=3)"
   ]
  },
  {
   "cell_type": "code",
   "execution_count": 17,
   "metadata": {},
   "outputs": [],
   "source": [
    " #there are some values missing from the age column, i decided to fill them with the value for mean age\n",
    "\n",
    "df['Age'] = pd.to_numeric(df['Age'], errors='coerce')"
   ]
  },
  {
   "cell_type": "code",
   "execution_count": 18,
   "metadata": {},
   "outputs": [],
   "source": [
    "df['Age'] = df['Age'].fillna(df['Age'].mean())\n",
    "df['Age'] = df['Age'].round(0)"
   ]
  },
  {
   "cell_type": "code",
   "execution_count": 19,
   "metadata": {},
   "outputs": [],
   "source": [
    "#The values that are missing for the \"activity\" and \"name\" columns that I simply want to replace with unknown . \n",
    "\n",
    "\n",
    "df['Activity'] = df['Activity'].fillna('Unknown activity')\n",
    "df['Name'] = df['Name'].fillna('Unknown')\n",
    "df['Investigator or Source'] = df['Investigator or Source'].fillna('Unknown')\n",
    "df['Injury'] = df['Injury'].fillna('Unknown')"
   ]
  },
  {
   "cell_type": "code",
   "execution_count": 20,
   "metadata": {},
   "outputs": [
    {
     "name": "stdout",
     "output_type": "stream",
     "text": [
      "Case Number                  0\n",
      "Date                         0\n",
      "Year                         0\n",
      "Type                         0\n",
      "Country                     43\n",
      "Area                       402\n",
      "Location                   496\n",
      "Activity                     0\n",
      "Name                         0\n",
      "Sex                        567\n",
      "Age                          0\n",
      "Injury                       0\n",
      "Fatal (Y/N)                 19\n",
      "Species                   2933\n",
      "Investigator or Source       0\n",
      "pdf                          0\n",
      "href formula                 0\n",
      "Case Number.1                0\n",
      "Case Number.2                0\n",
      "original order               0\n",
      "dtype: int64\n"
     ]
    }
   ],
   "source": [
    "print (df.isnull().sum())"
   ]
  },
  {
   "cell_type": "code",
   "execution_count": null,
   "metadata": {},
   "outputs": [],
   "source": []
  },
  {
   "cell_type": "code",
   "execution_count": 21,
   "metadata": {},
   "outputs": [
    {
     "data": {
      "text/plain": [
       "N          4315\n",
       "Y          1551\n",
       "UNKNOWN      94\n",
       " N            8\n",
       "F             1\n",
       "n             1\n",
       "N             1\n",
       "#VALUE!       1\n",
       "Name: Fatal (Y/N), dtype: int64"
      ]
     },
     "execution_count": 21,
     "metadata": {},
     "output_type": "execute_result"
    }
   ],
   "source": [
    "pd.value_counts(df['Fatal (Y/N)'])"
   ]
  },
  {
   "cell_type": "code",
   "execution_count": 22,
   "metadata": {},
   "outputs": [],
   "source": [
    "'''There seems to be som wrong values, I'll see if theres a way to fix this.\n",
    "First I just want to clear this up a little bit to see more properly'''\n",
    "\n",
    "df['Fatal (Y/N)'] = df['Fatal (Y/N)'].replace(\"['Y']\", 'Y').replace(\"['N']\", 'N').replace(\" N\", 'N').replace(\"n\", 'N').replace(\"F\", 'N').replace(\"#VALUE!\", 'N')"
   ]
  },
  {
   "cell_type": "code",
   "execution_count": 23,
   "metadata": {},
   "outputs": [
    {
     "data": {
      "text/plain": [
       "N          4326\n",
       "Y          1551\n",
       "UNKNOWN      94\n",
       "N             1\n",
       "Name: Fatal (Y/N), dtype: int64"
      ]
     },
     "execution_count": 23,
     "metadata": {},
     "output_type": "execute_result"
    }
   ],
   "source": [
    "# This is just to see if it looks any better...\n",
    "\n",
    "pd.value_counts(df['Fatal (Y/N)'])"
   ]
  },
  {
   "cell_type": "code",
   "execution_count": 24,
   "metadata": {},
   "outputs": [],
   "source": [
    "''' I want to replace the UNKNOWN with random picked values for yes or no. But theres a lot mor no fatal casuailtes, \n",
    "so I want to have that ratio in consideration while randomly defining new values for the UNKNOWN ones. \n",
    "Here I calculate the ratios to use.'''\n",
    "\n",
    "total = 4327+1551\n",
    "yes_ratio = (1551/total)*100\n",
    "no_ratio = (4315/total)*100\n",
    "outcomes = ['Y', 'N']"
   ]
  },
  {
   "cell_type": "code",
   "execution_count": null,
   "metadata": {},
   "outputs": [],
   "source": []
  },
  {
   "cell_type": "code",
   "execution_count": 25,
   "metadata": {},
   "outputs": [],
   "source": [
    "# first i'd like to retrive those rows where the unknown data for fatal is. \n",
    "unknown_data_fatal = df[df['Fatal (Y/N)'].values == 'UNKNOWN']"
   ]
  },
  {
   "cell_type": "code",
   "execution_count": 26,
   "metadata": {},
   "outputs": [
    {
     "name": "stderr",
     "output_type": "stream",
     "text": [
      "/Users/jonas_gratt/anaconda3/lib/python3.7/site-packages/pandas/core/indexing.py:190: SettingWithCopyWarning: \n",
      "A value is trying to be set on a copy of a slice from a DataFrame\n",
      "\n",
      "See the caveats in the documentation: http://pandas.pydata.org/pandas-docs/stable/indexing.html#indexing-view-versus-copy\n",
      "  self._setitem_with_indexer(indexer, value)\n"
     ]
    }
   ],
   "source": [
    "# Row I replace the values with an random selection for Y/N with consideration to the calculated ratio. \n",
    "unknown_rows_index = unknown_data_fatal.index.tolist()\n",
    "\n",
    "for i in unknown_rows_index:\n",
    "    df['Fatal (Y/N)'].loc[i] = rd.choices(outcomes, weights = [yes_ratio, no_ratio])\n",
    "    \n"
   ]
  },
  {
   "cell_type": "code",
   "execution_count": 27,
   "metadata": {},
   "outputs": [
    {
     "data": {
      "text/plain": [
       "N      4326\n",
       "Y      1551\n",
       "[N]      70\n",
       "[Y]      24\n",
       "N         1\n",
       "Name: Fatal (Y/N), dtype: int64"
      ]
     },
     "execution_count": 27,
     "metadata": {},
     "output_type": "execute_result"
    }
   ],
   "source": [
    "# just to check if what I wanted to happen happened. \n",
    "pd.value_counts(df['Fatal (Y/N)'])"
   ]
  },
  {
   "cell_type": "code",
   "execution_count": 28,
   "metadata": {},
   "outputs": [],
   "source": [
    "# looks good just need som polish\n",
    "df['Fatal (Y/N)'] = df['Fatal (Y/N)'].replace(\"[N]\", 'N').replace(\"[Y]\", 'Y')"
   ]
  },
  {
   "cell_type": "markdown",
   "metadata": {},
   "source": [
    "I want to do the same thing for the 'Sex' column."
   ]
  },
  {
   "cell_type": "code",
   "execution_count": 29,
   "metadata": {},
   "outputs": [],
   "source": [
    "pd.value_counts(df['Sex '])\n",
    "df['Sex '] = df['Sex '].replace(\"lli\", 'M').replace(\".\", 'M').replace(\"N\", 'M')\n",
    "\n"
   ]
  },
  {
   "cell_type": "code",
   "execution_count": 30,
   "metadata": {},
   "outputs": [],
   "source": [
    "total_sex = 4838+585\n",
    "men_ratio = (4838/total)*100\n",
    "female_ratio = (585/total)*100\n",
    "outcomes_sex = ['M', 'F']"
   ]
  },
  {
   "cell_type": "code",
   "execution_count": 32,
   "metadata": {},
   "outputs": [],
   "source": [
    "unknown_data_sex = df[df['Sex '].isnull()]"
   ]
  },
  {
   "cell_type": "code",
   "execution_count": 33,
   "metadata": {},
   "outputs": [],
   "source": [
    "null_rows = unknown_data_sex.index.tolist()\n",
    "\n",
    "for i in null_rows:\n",
    "    df['Sex '].loc[i] = rd.choices(outcomes_sex, weights = [men_ratio, female_ratio])"
   ]
  },
  {
   "cell_type": "code",
   "execution_count": 34,
   "metadata": {},
   "outputs": [
    {
     "data": {
      "text/plain": [
       "M      4837\n",
       "F       585\n",
       "[M]     501\n",
       "[F]      66\n",
       "M         2\n",
       "Name: Sex , dtype: int64"
      ]
     },
     "execution_count": 34,
     "metadata": {},
     "output_type": "execute_result"
    }
   ],
   "source": [
    "pd.value_counts(df['Sex '])"
   ]
  },
  {
   "cell_type": "code",
   "execution_count": 329,
   "metadata": {},
   "outputs": [
    {
     "name": "stdout",
     "output_type": "stream",
     "text": [
      "     Country                                   Location  \\\n",
      "303      NaN                                        NaN   \n",
      "2731     NaN                                        NaN   \n",
      "3153     NaN                                        NaN   \n",
      "3162     NaN                  Between St. Kitts & Nevis   \n",
      "3163     NaN                                        NaN   \n",
      "3170     NaN                                        NaN   \n",
      "3174     NaN                                        NaN   \n",
      "3200     NaN                                        NaN   \n",
      "3379     NaN                             Florida Strait   \n",
      "3435     NaN                                        NaN   \n",
      "3792     NaN                                        NaN   \n",
      "4005     NaN                                        NaN   \n",
      "4040     NaN                                Geyser Bank   \n",
      "4271     NaN                Between  Cuba  & Costa Rica   \n",
      "4412     NaN                225 miles east of Hong Kong   \n",
      "4473     NaN                                        NaN   \n",
      "4485     NaN                                        NaN   \n",
      "4499     NaN                                        NaN   \n",
      "4502     NaN                                        NaN   \n",
      "4681     NaN                                        NaN   \n",
      "4790     NaN                             Île Saint-Paul   \n",
      "5189     NaN                           Near the equator   \n",
      "5346     NaN                                        NaN   \n",
      "5347     NaN                                        NaN   \n",
      "5370     NaN                                        NaN   \n",
      "5394     NaN                                        NaN   \n",
      "5525     NaN                                        NaN   \n",
      "5558     NaN                                        NaN   \n",
      "5560     NaN                                 Santa Cruz   \n",
      "5589     NaN                                        NaN   \n",
      "5632     NaN                                        NaN   \n",
      "5664     NaN                                        NaN   \n",
      "5723     NaN                                        NaN   \n",
      "5729     NaN                                        NaN   \n",
      "5827     NaN                                        NaN   \n",
      "5847     NaN                               Carlisle Bay   \n",
      "5856     NaN                                        NaN   \n",
      "5862     NaN                                        NaN   \n",
      "5866     NaN                                        NaN   \n",
      "5868     NaN                                        NaN   \n",
      "5889     NaN                                        NaN   \n",
      "5896     NaN  In a river feeding into the Bay of Bengal   \n",
      "5949     NaN                                        NaN   \n",
      "\n",
      "                                               Area  \n",
      "303                                             NaN  \n",
      "2731                                English Channel  \n",
      "3153                                            NaN  \n",
      "3162                                  Caribbean Sea  \n",
      "3163                                            NaN  \n",
      "3170                                            NaN  \n",
      "3174                                            NaN  \n",
      "3200                                            NaN  \n",
      "3379                                            NaN  \n",
      "3435                                            NaN  \n",
      "3792              Between Timor & Darwin, Australia  \n",
      "4005             Near the Andaman & Nicobar Islands  \n",
      "4040                   Between Comores & Madagascar  \n",
      "4271                                  Caribbean Sea  \n",
      "4412                                            NaN  \n",
      "4473                       Off South American coast  \n",
      "4485  300 miles east of St. Thomas (Virgin Islands)  \n",
      "4499                                            NaN  \n",
      "4502                                            NaN  \n",
      "4681                                            NaN  \n",
      "4790                    French Southern Territories  \n",
      "5189                                            NaN  \n",
      "5346                                            NaN  \n",
      "5347                                            NaN  \n",
      "5370                              Mediterranean Sea  \n",
      "5394                                            NaN  \n",
      "5525                                            NaN  \n",
      "5558                                  Western Banks  \n",
      "5560                                            NaN  \n",
      "5589                                            NaN  \n",
      "5632                                            NaN  \n",
      "5664                                            NaN  \n",
      "5723                                            NaN  \n",
      "5729                                            NaN  \n",
      "5827                                            NaN  \n",
      "5847                                            NaN  \n",
      "5856                                            NaN  \n",
      "5862                                            NaN  \n",
      "5866                                     Ionian Sea  \n",
      "5868                                     Ionian Sea  \n",
      "5889                                            NaN  \n",
      "5896                                            NaN  \n",
      "5949                                            NaN  \n"
     ]
    }
   ],
   "source": [
    "'''There are some alot more countries missing from the data set while Location is not, we should be able to find out\n",
    "some of the countries that is missing based on the location of accident'''\n",
    "\n",
    "Country_check = df[df['Country'].isnull()]\n",
    "print(Country_check[['Country', 'Location','Area']])\n",
    "\n",
    "#There is some country values I can fill in right here \n",
    "\n"
   ]
  },
  {
   "cell_type": "code",
   "execution_count": 35,
   "metadata": {},
   "outputs": [
    {
     "name": "stdout",
     "output_type": "stream",
     "text": [
      "<class 'pandas.core.frame.DataFrame'>\n",
      "Int64Index: 5991 entries, 0 to 5991\n",
      "Data columns (total 20 columns):\n",
      "Case Number               5991 non-null object\n",
      "Date                      5991 non-null object\n",
      "Year                      5991 non-null int64\n",
      "Type                      5991 non-null object\n",
      "Country                   5948 non-null object\n",
      "Area                      5589 non-null object\n",
      "Location                  5495 non-null object\n",
      "Activity                  5991 non-null object\n",
      "Name                      5991 non-null object\n",
      "Sex                       5991 non-null object\n",
      "Age                       5991 non-null float64\n",
      "Injury                    5991 non-null object\n",
      "Fatal (Y/N)               5972 non-null object\n",
      "Species                   3058 non-null object\n",
      "Investigator or Source    5991 non-null object\n",
      "pdf                       5991 non-null object\n",
      "href formula              5991 non-null object\n",
      "Case Number.1             5991 non-null object\n",
      "Case Number.2             5991 non-null object\n",
      "original order            5991 non-null int64\n",
      "dtypes: float64(1), int64(2), object(17)\n",
      "memory usage: 1.1+ MB\n"
     ]
    }
   ],
   "source": [
    "df.info()"
   ]
  }
 ],
 "metadata": {
  "kernelspec": {
   "display_name": "Python 3",
   "language": "python",
   "name": "python3"
  },
  "language_info": {
   "codemirror_mode": {
    "name": "ipython",
    "version": 3
   },
   "file_extension": ".py",
   "mimetype": "text/x-python",
   "name": "python",
   "nbconvert_exporter": "python",
   "pygments_lexer": "ipython3",
   "version": "3.7.3"
  }
 },
 "nbformat": 4,
 "nbformat_minor": 2
}
