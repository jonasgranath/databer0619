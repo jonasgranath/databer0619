{
 "cells": [
  {
   "cell_type": "markdown",
   "metadata": {},
   "source": [
    "# Web Scraping Lab\n",
    "\n",
    "You will find in this notebook some scrapy exercises to practise your scraping skills.\n",
    "\n",
    "**Tips:**\n",
    "\n",
    "- Check the response status code for each request to ensure you have obtained the intended contennt.\n",
    "- Print the response text in each request to understand the kind of info you are getting and its format.\n",
    "- Check for patterns in the response text to extract the data/info requested in each question.\n",
    "- Visit each url and take a look at its source through Chrome DevTools. You'll need to identify the html tags, special class names etc. used for the html content you are expected to extract."
   ]
  },
  {
   "cell_type": "markdown",
   "metadata": {},
   "source": [
    "- [Requests library](http://docs.python-requests.org/en/master/#the-user-guide) documentation \n",
    "- [Beautiful Soup Doc](https://www.crummy.com/software/BeautifulSoup/bs4/doc/)\n",
    "- [Urllib](https://docs.python.org/3/library/urllib.html#module-urllib)\n",
    "- [re lib](https://docs.python.org/3/library/re.html)\n",
    "- [lxml lib](https://lxml.de/)\n",
    "- [Scrapy](https://scrapy.org/)\n",
    "- [List of HTTP status codes](https://en.wikipedia.org/wiki/List_of_HTTP_status_codes)\n",
    "- [HTML basics](http://www.simplehtmlguide.com/cheatsheet.php)\n",
    "- [CSS basics](https://www.cssbasics.com/#page_start)"
   ]
  },
  {
   "cell_type": "markdown",
   "metadata": {},
   "source": [
    "#### Below are the libraries and modules you may need. `requests`,  `BeautifulSoup` and `pandas` are imported for you. If you prefer to use additional libraries feel free to uncomment them."
   ]
  },
  {
   "cell_type": "code",
   "execution_count": 1,
   "metadata": {},
   "outputs": [],
   "source": [
    "import requests\n",
    "from bs4 import BeautifulSoup\n",
    "import pandas as pd\n",
    "# from pprint import pprint\n",
    "# from lxml import html\n",
    "# from lxml.html import fromstring\n",
    "# import urllib.request\n",
    "# from urllib.request import urlopen\n",
    "# import random\n",
    "# import re\n",
    "# import scrapy"
   ]
  },
  {
   "cell_type": "markdown",
   "metadata": {},
   "source": [
    "#### Download, parse (using BeautifulSoup), and print the content from the Trending Developers page from GitHub:"
   ]
  },
  {
   "cell_type": "code",
   "execution_count": 2,
   "metadata": {},
   "outputs": [],
   "source": [
    "# This is the url you will scrape in this exercise\n",
    "url = 'https://github.com/trending/developers'"
   ]
  },
  {
   "cell_type": "code",
   "execution_count": 7,
   "metadata": {},
   "outputs": [],
   "source": [
    "#your code\n",
    "html = requests.get(url).content\n",
    "soup = BeautifulSoup(html, 'lxml')\n"
   ]
  },
  {
   "cell_type": "code",
   "execution_count": 54,
   "metadata": {},
   "outputs": [],
   "source": [
    "tags = soup.find_all('p', {'class': 'f4 text-normal mb-1'})\n",
    "\n",
    "names_raw = [element.text for element in tags]"
   ]
  },
  {
   "cell_type": "code",
   "execution_count": 76,
   "metadata": {},
   "outputs": [],
   "source": [
    "names = []\n",
    "for name in names_raw:\n",
    "    name = name.strip().replace('\\n', '')\n",
    "    names.append(name)\n"
   ]
  },
  {
   "cell_type": "code",
   "execution_count": 75,
   "metadata": {},
   "outputs": [
    {
     "data": {
      "text/plain": [
       "['erikras',\n",
       " 'hiroppy',\n",
       " 'jamesmontemagno',\n",
       " 'maartenbreddels',\n",
       " 'robcowart',\n",
       " 'klauspost',\n",
       " 'k0shk0sh',\n",
       " 'siddontang',\n",
       " 'cytopia',\n",
       " 'cipchk',\n",
       " 'johnpryan',\n",
       " 'ResidentMario',\n",
       " 'aitboudad',\n",
       " 'carlossg',\n",
       " 'antonbabenko',\n",
       " 'vmihailenco',\n",
       " 'XVincentX',\n",
       " 'FezVrasta',\n",
       " 'kentcdodds',\n",
       " 'rmosolgo',\n",
       " 'rbuckton',\n",
       " 'mattjj',\n",
       " 'radare',\n",
       " 'raboof',\n",
       " 'Ovilia']"
      ]
     },
     "execution_count": 75,
     "metadata": {},
     "output_type": "execute_result"
    }
   ],
   "source": [
    "names"
   ]
  },
  {
   "cell_type": "markdown",
   "metadata": {},
   "source": [
    "#### Display the names of the trending developers retrieved in the previous step.\n",
    "\n",
    "Your output should be a Python list of developer names. Each name should not contain any html tag.\n",
    "\n",
    "**Instructions:**\n",
    "\n",
    "1. Find out the html tag and class names used for the developer names. You can achieve this using Chrome DevTools.\n",
    "\n",
    "1. Use BeautifulSoup to extract all the html elements that contain the developer names.\n",
    "\n",
    "1. Use string manipulation techniques to replace whitespaces and linebreaks (i.e. `\\n`) in the *text* of each html element. Use a list to store the clean names.\n",
    "\n",
    "1. Print the list of names.\n",
    "\n",
    "Your output should look like below:\n",
    "\n",
    "```\n",
    "['trimstray (@trimstray)',\n",
    " 'joewalnes (JoeWalnes)',\n",
    " 'charlax (Charles-AxelDein)',\n",
    " 'ForrestKnight (ForrestKnight)',\n",
    " 'revery-ui (revery-ui)',\n",
    " 'alibaba (Alibaba)',\n",
    " 'Microsoft (Microsoft)',\n",
    " 'github (GitHub)',\n",
    " 'facebook (Facebook)',\n",
    " 'boazsegev (Bo)',\n",
    " 'google (Google)',\n",
    " 'cloudfetch',\n",
    " 'sindresorhus (SindreSorhus)',\n",
    " 'tensorflow',\n",
    " 'apache (TheApacheSoftwareFoundation)',\n",
    " 'DevonCrawford (DevonCrawford)',\n",
    " 'ARMmbed (ArmMbed)',\n",
    " 'vuejs (vuejs)',\n",
    " 'fastai (fast.ai)',\n",
    " 'QiShaoXuan (Qi)',\n",
    " 'joelparkerhenderson (JoelParkerHenderson)',\n",
    " 'torvalds (LinusTorvalds)',\n",
    " 'CyC2018',\n",
    " 'komeiji-satori (神楽坂覚々)',\n",
    " 'script-8']\n",
    " ```"
   ]
  },
  {
   "cell_type": "code",
   "execution_count": 78,
   "metadata": {},
   "outputs": [],
   "source": [
    "#your code"
   ]
  },
  {
   "cell_type": "markdown",
   "metadata": {},
   "source": [
    "#### Display the trending Python repositories in GitHub\n",
    "\n",
    "The steps to solve this problem is similar to the previous one except that you need to find out the repository names instead of developer names."
   ]
  },
  {
   "cell_type": "code",
   "execution_count": 82,
   "metadata": {},
   "outputs": [],
   "source": [
    "# This is the url you will scrape in this exercise\n",
    "url = 'https://github.com/trending/python?since=daily'"
   ]
  },
  {
   "cell_type": "code",
   "execution_count": 90,
   "metadata": {},
   "outputs": [
    {
     "data": {
      "text/plain": [
       "['\\n\\n\\ndonnemartin / system-design-primer\\n ',\n",
       " '\\n\\n\\nopen-mmlab / mmdetection\\n ',\n",
       " '\\n\\n\\nal0ne / Vxscan\\n ',\n",
       " '\\n\\n\\nPaddlePaddle / models\\n ',\n",
       " '\\n\\n\\npandas-profiling / pandas-profiling\\n ',\n",
       " '\\n\\n\\nkennethreitz / requests\\n ',\n",
       " '\\n\\n\\naudreyr / cookiecutter-pypackage\\n ',\n",
       " '\\n\\n\\nmomosecurity / aswan\\n ',\n",
       " '\\n\\n\\nSlavikMIPT / tgcloud\\n ',\n",
       " '\\n\\n\\nsergiomsilva / alpr-unconstrained\\n ',\n",
       " '\\n\\n\\nrafaelpadilla / Object-Detection-Metrics\\n ',\n",
       " '\\n\\n\\nCorentinJ / Real-Time-Voice-Cloning\\n ',\n",
       " '\\n\\n\\ndmlc / tvm\\n ',\n",
       " '\\n\\n\\nmaurosoria / dirsearch\\n ',\n",
       " '\\n\\n\\nkimiyoung / transformer-xl\\n ',\n",
       " '\\n\\n\\nOWASP / CheatSheetSeries\\n ',\n",
       " '\\n\\n\\nRhinoSecurityLabs / CVEs\\n ',\n",
       " '\\n\\n\\ncustom-components / hacs\\n ',\n",
       " '\\n\\n\\nmicrosoft / NeuronBlocks\\n ',\n",
       " '\\n\\n\\nCyash / Pothole_Detection\\n ',\n",
       " '\\n\\n\\nZucccs / PhoneSploit\\n ',\n",
       " '\\n\\n\\nCriseLYJ / awesome-python-login-model\\n ',\n",
       " '\\n\\n\\nYadiraF / PRNet\\n ',\n",
       " '\\n\\n\\nblackorbird / APT_REPORT\\n ',\n",
       " '\\n\\n\\nsebastianruder / NLP-progress\\n ']"
      ]
     },
     "execution_count": 90,
     "metadata": {},
     "output_type": "execute_result"
    }
   ],
   "source": [
    "#your code\n",
    "html = requests.get(url).content\n",
    "soup = BeautifulSoup(html, 'lxml')\n",
    "\n",
    "tags = soup.find_all('h1', {'class': 'h3 lh-condensed'})\n",
    "\n",
    "repos_raw = [element.text for element in tags]"
   ]
  },
  {
   "cell_type": "code",
   "execution_count": 92,
   "metadata": {},
   "outputs": [],
   "source": [
    "repos = []\n",
    "for r in repos_raw:\n",
    "    r = r.strip().replace('\\n', '')\n",
    "    repos.append(r)\n"
   ]
  },
  {
   "cell_type": "code",
   "execution_count": 93,
   "metadata": {},
   "outputs": [
    {
     "data": {
      "text/plain": [
       "['donnemartin / system-design-primer',\n",
       " 'open-mmlab / mmdetection',\n",
       " 'al0ne / Vxscan',\n",
       " 'PaddlePaddle / models',\n",
       " 'pandas-profiling / pandas-profiling',\n",
       " 'kennethreitz / requests',\n",
       " 'audreyr / cookiecutter-pypackage',\n",
       " 'momosecurity / aswan',\n",
       " 'SlavikMIPT / tgcloud',\n",
       " 'sergiomsilva / alpr-unconstrained',\n",
       " 'rafaelpadilla / Object-Detection-Metrics',\n",
       " 'CorentinJ / Real-Time-Voice-Cloning',\n",
       " 'dmlc / tvm',\n",
       " 'maurosoria / dirsearch',\n",
       " 'kimiyoung / transformer-xl',\n",
       " 'OWASP / CheatSheetSeries',\n",
       " 'RhinoSecurityLabs / CVEs',\n",
       " 'custom-components / hacs',\n",
       " 'microsoft / NeuronBlocks',\n",
       " 'Cyash / Pothole_Detection',\n",
       " 'Zucccs / PhoneSploit',\n",
       " 'CriseLYJ / awesome-python-login-model',\n",
       " 'YadiraF / PRNet',\n",
       " 'blackorbird / APT_REPORT',\n",
       " 'sebastianruder / NLP-progress']"
      ]
     },
     "execution_count": 93,
     "metadata": {},
     "output_type": "execute_result"
    }
   ],
   "source": [
    "repos"
   ]
  },
  {
   "cell_type": "markdown",
   "metadata": {},
   "source": [
    "#### Display all the image links from Walt Disney wikipedia page"
   ]
  },
  {
   "cell_type": "code",
   "execution_count": 126,
   "metadata": {},
   "outputs": [],
   "source": [
    "# This is the url you will scrape in this exercise\n",
    "url = 'https://en.wikipedia.org/wiki/Walt_Disney'"
   ]
  },
  {
   "cell_type": "code",
   "execution_count": 127,
   "metadata": {},
   "outputs": [
    {
     "data": {
      "text/plain": [
       "['/wiki/File:Walt_Disney_1946.JPG',\n",
       " '/wiki/File:Walt_Disney_1942_signature.svg',\n",
       " '/wiki/File:Walt_Disney_envelope_ca._1921.jpg',\n",
       " '/wiki/File:Trolley_Troubles_poster.jpg',\n",
       " '/wiki/File:Walt_Disney_and_his_cartoon_creation_%22Mickey_Mouse%22_-_National_Board_of_Review_Magazine.jpg',\n",
       " '/wiki/File:Steamboat-willie.jpg',\n",
       " '/wiki/File:Walt_Disney_1935.jpg',\n",
       " '/wiki/File:Walt_Disney_Snow_white_1937_trailer_screenshot_(13).jpg',\n",
       " '/wiki/File:Disney_drawing_goofy.jpg',\n",
       " '/wiki/File:DisneySchiphol1951.jpg',\n",
       " '/wiki/File:WaltDisneyplansDisneylandDec1954.jpg',\n",
       " '/wiki/File:Walt_disney_portrait_right.jpg',\n",
       " '/wiki/File:Walt_Disney_Grave.JPG',\n",
       " '/wiki/File:Roy_O._Disney_with_Company_at_Press_Conference.jpg',\n",
       " '/wiki/File:Disney_Display_Case.JPG',\n",
       " '/wiki/File:Disney1968.jpg',\n",
       " '/wiki/File:Animation_disc.svg',\n",
       " '/wiki/File:P_vip.svg',\n",
       " '/wiki/File:Magic_Kingdom_castle.jpg',\n",
       " '/wiki/File:Video-x-generic.svg',\n",
       " '/wiki/File:Flag_of_Los_Angeles_County,_California.svg',\n",
       " '/wiki/File:USA_flag_on_television.svg']"
      ]
     },
     "execution_count": 127,
     "metadata": {},
     "output_type": "execute_result"
    }
   ],
   "source": [
    "#your code\n",
    "\n",
    "html = requests.get(url).content\n",
    "soup = BeautifulSoup(html,'lxml')\n",
    "\n",
    "#tags = soup.find_all('a', {'class': 'image'})\n",
    "\n",
    "links = []\n",
    "\n",
    "for link in soup.find_all('a', {'class': 'image'}):\n",
    "    if 'href' in link.attrs:\n",
    "       links.append(link.attrs['href'])\n",
    "\n",
    "#img_raw = [link.href for link in tags]\n",
    "#img_raw\n",
    "\n",
    "links"
   ]
  },
  {
   "cell_type": "markdown",
   "metadata": {},
   "source": [
    "#### Retrieve an arbitary Wikipedia page of \"Python\" and create a list of links on that page"
   ]
  },
  {
   "cell_type": "code",
   "execution_count": 116,
   "metadata": {},
   "outputs": [],
   "source": [
    "# This is the url you will scrape in this exercise\n",
    "url ='https://en.wikipedia.org/wiki/Python' \n"
   ]
  },
  {
   "cell_type": "code",
   "execution_count": 117,
   "metadata": {},
   "outputs": [],
   "source": [
    "#your code\n",
    "html = requests.get(url).content\n",
    "soup = BeautifulSoup(html, 'lxml')"
   ]
  },
  {
   "cell_type": "code",
   "execution_count": 122,
   "metadata": {},
   "outputs": [
    {
     "data": {
      "text/plain": [
       "['#mw-head',\n",
       " '#p-search',\n",
       " 'https://en.wiktionary.org/wiki/Python',\n",
       " 'https://en.wiktionary.org/wiki/python',\n",
       " '#Snakes',\n",
       " '#Ancient_Greece',\n",
       " '#Media_and_entertainment',\n",
       " '#Computing',\n",
       " '#Engineering',\n",
       " '#Roller_coasters',\n",
       " '#Vehicles',\n",
       " '#Weaponry',\n",
       " '#People',\n",
       " '#Other_uses',\n",
       " '#See_also',\n",
       " '/w/index.php?title=Python&action=edit&section=1',\n",
       " '/wiki/Pythonidae',\n",
       " '/wiki/Python_(genus)',\n",
       " '/w/index.php?title=Python&action=edit&section=2',\n",
       " '/wiki/Python_(mythology)',\n",
       " '/wiki/Python_of_Aenus',\n",
       " '/wiki/Python_(painter)',\n",
       " '/wiki/Python_of_Byzantium',\n",
       " '/wiki/Python_of_Catana',\n",
       " '/w/index.php?title=Python&action=edit&section=3',\n",
       " '/wiki/Python_(film)',\n",
       " '/wiki/Pythons_2',\n",
       " '/wiki/Monty_Python',\n",
       " '/wiki/Python_(Monty)_Pictures',\n",
       " '/w/index.php?title=Python&action=edit&section=4',\n",
       " '/wiki/Python_(programming_language)',\n",
       " '/wiki/CPython',\n",
       " '/wiki/CMU_Common_Lisp',\n",
       " '/wiki/PERQ#PERQ_3',\n",
       " '/w/index.php?title=Python&action=edit&section=5',\n",
       " '/w/index.php?title=Python&action=edit&section=6',\n",
       " '/wiki/Python_(Busch_Gardens_Tampa_Bay)',\n",
       " '/wiki/Python_(Coney_Island,_Cincinnati,_Ohio)',\n",
       " '/wiki/Python_(Efteling)',\n",
       " '/w/index.php?title=Python&action=edit&section=7',\n",
       " '/wiki/Python_(automobile_maker)',\n",
       " '/wiki/Python_(Ford_prototype)',\n",
       " '/w/index.php?title=Python&action=edit&section=8',\n",
       " '/wiki/Colt_Python',\n",
       " '/wiki/Python_(missile)',\n",
       " '/wiki/Python_(nuclear_primary)',\n",
       " '/w/index.php?title=Python&action=edit&section=9',\n",
       " '/wiki/Python_Anghelo',\n",
       " '/w/index.php?title=Python&action=edit&section=10',\n",
       " '/wiki/PYTHON',\n",
       " '/w/index.php?title=Python&action=edit&section=11',\n",
       " '/wiki/Cython',\n",
       " '/wiki/Pyton',\n",
       " '/wiki/File:Disambig_gray.svg',\n",
       " '/wiki/Help:Disambiguation',\n",
       " '//en.wikipedia.org/w/index.php?title=Special:WhatLinksHere/Python&namespace=0',\n",
       " 'https://en.wikipedia.org/w/index.php?title=Python&oldid=900406526',\n",
       " '/wiki/Help:Category',\n",
       " '/wiki/Category:Disambiguation_pages',\n",
       " '/wiki/Category:Disambiguation_pages_with_short_description',\n",
       " '/wiki/Category:All_article_disambiguation_pages',\n",
       " '/wiki/Category:All_disambiguation_pages',\n",
       " '/wiki/Category:Animal_common_name_disambiguation_pages',\n",
       " '/wiki/Special:MyTalk',\n",
       " '/wiki/Special:MyContributions',\n",
       " '/w/index.php?title=Special:CreateAccount&returnto=Python',\n",
       " '/w/index.php?title=Special:UserLogin&returnto=Python',\n",
       " '/wiki/Python',\n",
       " '/wiki/Talk:Python',\n",
       " '/wiki/Python',\n",
       " '/w/index.php?title=Python&action=edit',\n",
       " '/w/index.php?title=Python&action=history',\n",
       " '/wiki/Main_Page',\n",
       " '/wiki/Main_Page',\n",
       " '/wiki/Portal:Contents',\n",
       " '/wiki/Portal:Featured_content',\n",
       " '/wiki/Portal:Current_events',\n",
       " '/wiki/Special:Random',\n",
       " 'https://donate.wikimedia.org/wiki/Special:FundraiserRedirector?utm_source=donate&utm_medium=sidebar&utm_campaign=C13_en.wikipedia.org&uselang=en',\n",
       " '//shop.wikimedia.org',\n",
       " '/wiki/Help:Contents',\n",
       " '/wiki/Wikipedia:About',\n",
       " '/wiki/Wikipedia:Community_portal',\n",
       " '/wiki/Special:RecentChanges',\n",
       " '//en.wikipedia.org/wiki/Wikipedia:Contact_us',\n",
       " '/wiki/Special:WhatLinksHere/Python',\n",
       " '/wiki/Special:RecentChangesLinked/Python',\n",
       " '/wiki/Wikipedia:File_Upload_Wizard',\n",
       " '/wiki/Special:SpecialPages',\n",
       " '/w/index.php?title=Python&oldid=900406526',\n",
       " '/w/index.php?title=Python&action=info',\n",
       " 'https://www.wikidata.org/wiki/Special:EntityPage/Q747452',\n",
       " '/w/index.php?title=Special:CiteThisPage&page=Python&id=900406526',\n",
       " 'https://commons.wikimedia.org/wiki/Category:Python',\n",
       " '/w/index.php?title=Special:Book&bookcmd=book_creator&referer=Python',\n",
       " '/w/index.php?title=Special:ElectronPdf&page=Python&action=show-download-screen',\n",
       " '/w/index.php?title=Python&printable=yes',\n",
       " 'https://af.wikipedia.org/wiki/Python',\n",
       " 'https://als.wikipedia.org/wiki/Python',\n",
       " 'https://az.wikipedia.org/wiki/Python',\n",
       " 'https://bn.wikipedia.org/wiki/%E0%A6%AA%E0%A6%BE%E0%A6%87%E0%A6%A5%E0%A6%A8_(%E0%A6%A6%E0%A7%8D%E0%A6%AC%E0%A7%8D%E0%A6%AF%E0%A6%B0%E0%A7%8D%E0%A6%A5%E0%A6%A4%E0%A6%BE_%E0%A6%A8%E0%A6%BF%E0%A6%B0%E0%A6%B8%E0%A6%A8)',\n",
       " 'https://be.wikipedia.org/wiki/Python',\n",
       " 'https://bg.wikipedia.org/wiki/%D0%9F%D0%B8%D1%82%D0%BE%D0%BD_(%D0%BF%D0%BE%D1%8F%D1%81%D0%BD%D0%B5%D0%BD%D0%B8%D0%B5)',\n",
       " 'https://cs.wikipedia.org/wiki/Python_(rozcestn%C3%ADk)',\n",
       " 'https://da.wikipedia.org/wiki/Python',\n",
       " 'https://de.wikipedia.org/wiki/Python',\n",
       " 'https://eo.wikipedia.org/wiki/Pitono_(apartigilo)',\n",
       " 'https://eu.wikipedia.org/wiki/Python_(argipena)',\n",
       " 'https://fa.wikipedia.org/wiki/%D9%BE%D8%A7%DB%8C%D8%AA%D9%88%D9%86',\n",
       " 'https://fr.wikipedia.org/wiki/Python',\n",
       " 'https://ko.wikipedia.org/wiki/%ED%8C%8C%EC%9D%B4%EC%84%A0',\n",
       " 'https://hr.wikipedia.org/wiki/Python_(razdvojba)',\n",
       " 'https://io.wikipedia.org/wiki/Pitono',\n",
       " 'https://id.wikipedia.org/wiki/Python',\n",
       " 'https://ia.wikipedia.org/wiki/Python_(disambiguation)',\n",
       " 'https://is.wikipedia.org/wiki/Python_(a%C3%B0greining)',\n",
       " 'https://it.wikipedia.org/wiki/Python_(disambigua)',\n",
       " 'https://he.wikipedia.org/wiki/%D7%A4%D7%99%D7%AA%D7%95%D7%9F',\n",
       " 'https://ka.wikipedia.org/wiki/%E1%83%9E%E1%83%98%E1%83%97%E1%83%9D%E1%83%9C%E1%83%98_(%E1%83%9B%E1%83%A0%E1%83%90%E1%83%95%E1%83%90%E1%83%9A%E1%83%9B%E1%83%9C%E1%83%98%E1%83%A8%E1%83%95%E1%83%9C%E1%83%94%E1%83%9A%E1%83%9D%E1%83%95%E1%83%90%E1%83%9C%E1%83%98)',\n",
       " 'https://kg.wikipedia.org/wiki/Mboma_(nyoka)',\n",
       " 'https://la.wikipedia.org/wiki/Python_(discretiva)',\n",
       " 'https://lb.wikipedia.org/wiki/Python',\n",
       " 'https://hu.wikipedia.org/wiki/Python_(egy%C3%A9rtelm%C5%B1s%C3%ADt%C5%91_lap)',\n",
       " 'https://mr.wikipedia.org/wiki/%E0%A4%AA%E0%A4%BE%E0%A4%AF%E0%A4%A5%E0%A5%89%E0%A4%A8_(%E0%A4%86%E0%A4%9C%E0%A5%8D%E0%A4%9E%E0%A4%BE%E0%A4%B5%E0%A4%B2%E0%A5%80_%E0%A4%AD%E0%A4%BE%E0%A4%B7%E0%A4%BE)',\n",
       " 'https://nl.wikipedia.org/wiki/Python',\n",
       " 'https://ja.wikipedia.org/wiki/%E3%83%91%E3%82%A4%E3%82%BD%E3%83%B3',\n",
       " 'https://no.wikipedia.org/wiki/Pyton',\n",
       " 'https://pl.wikipedia.org/wiki/Pyton',\n",
       " 'https://pt.wikipedia.org/wiki/Python_(desambigua%C3%A7%C3%A3o)',\n",
       " 'https://ru.wikipedia.org/wiki/Python_(%D0%B7%D0%BD%D0%B0%D1%87%D0%B5%D0%BD%D0%B8%D1%8F)',\n",
       " 'https://sd.wikipedia.org/wiki/%D8%A7%D8%B1%DA%99',\n",
       " 'https://sk.wikipedia.org/wiki/Python',\n",
       " 'https://sh.wikipedia.org/wiki/Python',\n",
       " 'https://fi.wikipedia.org/wiki/Python',\n",
       " 'https://sv.wikipedia.org/wiki/Pyton',\n",
       " 'https://th.wikipedia.org/wiki/%E0%B9%84%E0%B8%9E%E0%B8%97%E0%B8%AD%E0%B8%99',\n",
       " 'https://tr.wikipedia.org/wiki/Python',\n",
       " 'https://uk.wikipedia.org/wiki/%D0%9F%D1%96%D1%84%D0%BE%D0%BD',\n",
       " 'https://ur.wikipedia.org/wiki/%D9%BE%D8%A7%D8%A6%DB%8C%D8%AA%DA%BE%D9%88%D9%86',\n",
       " 'https://vi.wikipedia.org/wiki/Python',\n",
       " 'https://zh.wikipedia.org/wiki/Python_(%E6%B6%88%E6%AD%A7%E4%B9%89)',\n",
       " 'https://www.wikidata.org/wiki/Special:EntityPage/Q747452#sitelinks-wikipedia',\n",
       " '//en.wikipedia.org/wiki/Wikipedia:Text_of_Creative_Commons_Attribution-ShareAlike_3.0_Unported_License',\n",
       " '//creativecommons.org/licenses/by-sa/3.0/',\n",
       " '//foundation.wikimedia.org/wiki/Terms_of_Use',\n",
       " '//foundation.wikimedia.org/wiki/Privacy_policy',\n",
       " '//www.wikimediafoundation.org/',\n",
       " 'https://foundation.wikimedia.org/wiki/Privacy_policy',\n",
       " '/wiki/Wikipedia:About',\n",
       " '/wiki/Wikipedia:General_disclaimer',\n",
       " '//en.wikipedia.org/wiki/Wikipedia:Contact_us',\n",
       " 'https://www.mediawiki.org/wiki/Special:MyLanguage/How_to_contribute',\n",
       " 'https://foundation.wikimedia.org/wiki/Cookie_statement',\n",
       " '//en.m.wikipedia.org/w/index.php?title=Python&mobileaction=toggle_view_mobile',\n",
       " 'https://wikimediafoundation.org/',\n",
       " 'https://www.mediawiki.org/']"
      ]
     },
     "execution_count": 122,
     "metadata": {},
     "output_type": "execute_result"
    }
   ],
   "source": [
    "#table = soup.find_all('tag', {'class': 'classname'})\n",
    "\n",
    "links = []\n",
    "\n",
    "for link in soup.find_all('a',):\n",
    "    if 'href' in link.attrs:\n",
    "       links.append(link.attrs['href'])\n",
    "\n",
    "links"
   ]
  },
  {
   "cell_type": "markdown",
   "metadata": {},
   "source": [
    "#### Number of Titles that have changed in the United States Code since its last release point "
   ]
  },
  {
   "cell_type": "code",
   "execution_count": 140,
   "metadata": {},
   "outputs": [],
   "source": [
    "# This is the url you will scrape in this exercise\n",
    "url = 'http://uscode.house.gov/download/download.shtml'"
   ]
  },
  {
   "cell_type": "code",
   "execution_count": 155,
   "metadata": {},
   "outputs": [],
   "source": [
    "#your code\n",
    "html = requests.get(url).content\n",
    "soup = BeautifulSoup(html,'lxml')\n",
    "\n",
    "tags = soup.find_all('div', {'class': 'usctitle'})\n",
    "\n",
    "c = [element.text for element in tags]\n",
    "\n",
    "codes = []\n",
    "\n",
    "for i in c:\n",
    "    i = i.strip()\n",
    "    codes.append(i)\n",
    "    \n",
    "    \n",
    "del codes[0]\n",
    "\n",
    "#codes"
   ]
  },
  {
   "cell_type": "markdown",
   "metadata": {},
   "source": [
    "#### A Python list with the top ten FBI's Most Wanted names "
   ]
  },
  {
   "cell_type": "code",
   "execution_count": 173,
   "metadata": {},
   "outputs": [],
   "source": [
    "# This is the url you will scrape in this exercise\n",
    "url = 'https://www.fbi.gov/wanted/topten'"
   ]
  },
  {
   "cell_type": "code",
   "execution_count": 174,
   "metadata": {},
   "outputs": [],
   "source": [
    "#your code \n",
    "\n",
    "html = requests.get(url).content\n",
    "soup = BeautifulSoup(html, 'lxml')"
   ]
  },
  {
   "cell_type": "code",
   "execution_count": 164,
   "metadata": {},
   "outputs": [
    {
     "data": {
      "text/plain": [
       "['ALEXIS FLORES',\n",
       " 'EUGENE PALMER',\n",
       " 'SANTIAGO VILLALBA MEDEROS',\n",
       " 'ROBERT WILLIAM FISHER',\n",
       " 'BHADRESHKUMAR CHETANBHAI PATEL',\n",
       " 'ARNOLDO JIMENEZ',\n",
       " 'ALEJANDRO ROSALES CASTILLO',\n",
       " 'YASER ABDEL SAID',\n",
       " 'JASON DEREK BROWN',\n",
       " 'RAFAEL CARO-QUINTERO']"
      ]
     },
     "execution_count": 164,
     "metadata": {},
     "output_type": "execute_result"
    }
   ],
   "source": [
    "tags = soup.find_all('h3', {'class': 'title'})\n",
    "\n",
    "MW = [element.text for element in tags]\n",
    "\n",
    "FBI_most_wanted = []\n",
    "for i in MW:\n",
    "    i = i.strip().replace('\\n', '')\n",
    "    FBI_most_wanted.append(i)\n",
    "    \n",
    "FBI_most_wanted    "
   ]
  },
  {
   "cell_type": "markdown",
   "metadata": {},
   "source": [
    "####  20 latest earthquakes info (date, time, latitude, longitude and region name) by the EMSC as a pandas dataframe"
   ]
  },
  {
   "cell_type": "code",
   "execution_count": 209,
   "metadata": {},
   "outputs": [
    {
     "data": {
      "text/plain": [
       "['earthquake2019-06-19\\xa0\\xa0\\xa013:14:08.118min ago',\n",
       " 'earthquake2019-06-19\\xa0\\xa0\\xa012:52:54.040min ago',\n",
       " 'earthquake2019-06-19\\xa0\\xa0\\xa012:16:09.01hr 16min ago',\n",
       " 'earthquake2019-06-19\\xa0\\xa0\\xa012:05:05.01hr 27min ago',\n",
       " 'earthquake2019-06-19\\xa0\\xa0\\xa011:59:01.01hr 34min ago',\n",
       " 'earthquake2019-06-19\\xa0\\xa0\\xa011:37:58.51hr 55min ago',\n",
       " 'earthquake2019-06-19\\xa0\\xa0\\xa011:36:16.11hr 56min ago',\n",
       " 'earthquake2019-06-19\\xa0\\xa0\\xa011:33:02.02hr 00min ago',\n",
       " 'earthquake2019-06-19\\xa0\\xa0\\xa010:39:10.72hr 53min ago',\n",
       " 'earthquake2019-06-19\\xa0\\xa0\\xa010:05:11.53hr 27min ago',\n",
       " 'earthquake2019-06-19\\xa0\\xa0\\xa010:00:48.03hr 32min ago',\n",
       " 'earthquake2019-06-19\\xa0\\xa0\\xa010:00:05.13hr 32min ago',\n",
       " 'earthquake2019-06-19\\xa0\\xa0\\xa009:45:30.63hr 47min ago',\n",
       " 'earthquake2019-06-19\\xa0\\xa0\\xa009:45:08.93hr 47min ago',\n",
       " 'earthquake2019-06-19\\xa0\\xa0\\xa009:43:09.63hr 49min ago',\n",
       " 'earthquake2019-06-19\\xa0\\xa0\\xa008:49:36.04hr 43min ago',\n",
       " 'earthquake2019-06-19\\xa0\\xa0\\xa008:20:25.75hr 12min ago',\n",
       " 'earthquake2019-06-19\\xa0\\xa0\\xa008:18:00.05hr 15min ago',\n",
       " 'earthquake2019-06-19\\xa0\\xa0\\xa008:01:39.05hr 31min ago',\n",
       " 'earthquake2019-06-19\\xa0\\xa0\\xa008:00:01.05hr 33min ago',\n",
       " 'earthquake2019-06-19\\xa0\\xa0\\xa007:51:54.05hr 41min ago',\n",
       " 'earthquake2019-06-19\\xa0\\xa0\\xa007:38:07.05hr 54min ago',\n",
       " 'earthquake2019-06-19\\xa0\\xa0\\xa007:34:57.15hr 58min ago',\n",
       " 'earthquake2019-06-19\\xa0\\xa0\\xa007:21:08.46hr 11min ago',\n",
       " 'earthquake2019-06-19\\xa0\\xa0\\xa007:09:28.96hr 23min ago',\n",
       " 'earthquake2019-06-19\\xa0\\xa0\\xa007:01:42.16hr 31min ago',\n",
       " 'earthquake2019-06-19\\xa0\\xa0\\xa006:41:52.96hr 51min ago',\n",
       " 'earthquake2019-06-19\\xa0\\xa0\\xa006:38:35.36hr 54min ago',\n",
       " 'earthquake2019-06-19\\xa0\\xa0\\xa006:19:12.07hr 13min ago',\n",
       " 'earthquake2019-06-19\\xa0\\xa0\\xa006:03:43.67hr 29min ago',\n",
       " 'earthquake2019-06-19\\xa0\\xa0\\xa005:47:22.77hr 45min ago',\n",
       " 'earthquake2019-06-19\\xa0\\xa0\\xa005:38:19.97hr 54min ago',\n",
       " 'earthquake2019-06-19\\xa0\\xa0\\xa005:30:25.08hr 02min ago',\n",
       " 'earthquake2019-06-19\\xa0\\xa0\\xa005:17:06.08hr 15min ago',\n",
       " 'earthquake2019-06-19\\xa0\\xa0\\xa005:12:09.08hr 20min ago',\n",
       " 'earthquake2019-06-19\\xa0\\xa0\\xa005:06:47.28hr 26min ago',\n",
       " 'earthquake2019-06-19\\xa0\\xa0\\xa004:55:20.48hr 37min ago',\n",
       " 'earthquake2019-06-19\\xa0\\xa0\\xa004:50:35.68hr 42min ago',\n",
       " 'earthquake2019-06-19\\xa0\\xa0\\xa004:45:01.98hr 48min ago',\n",
       " 'earthquake2019-06-19\\xa0\\xa0\\xa004:08:39.59hr 24min ago',\n",
       " 'earthquake2019-06-19\\xa0\\xa0\\xa004:07:51.89hr 25min ago',\n",
       " 'earthquake2019-06-19\\xa0\\xa0\\xa004:02:58.09hr 30min ago',\n",
       " 'earthquake2019-06-19\\xa0\\xa0\\xa003:49:27.09hr 43min ago',\n",
       " 'earthquake2019-06-19\\xa0\\xa0\\xa003:32:02.510hr 00min ago',\n",
       " 'earthquake2019-06-19\\xa0\\xa0\\xa003:12:13.010hr 20min ago',\n",
       " 'earthquake2019-06-19\\xa0\\xa0\\xa003:09:28.010hr 23min ago',\n",
       " 'earthquake2019-06-19\\xa0\\xa0\\xa002:37:02.110hr 55min ago',\n",
       " 'earthquake2019-06-19\\xa0\\xa0\\xa002:35:57.510hr 57min ago',\n",
       " 'earthquake2019-06-19\\xa0\\xa0\\xa002:31:47.911hr 01min ago',\n",
       " 'earthquake2019-06-19\\xa0\\xa0\\xa002:18:22.011hr 14min ago']"
      ]
     },
     "execution_count": 209,
     "metadata": {},
     "output_type": "execute_result"
    }
   ],
   "source": [
    "# This is the url you will scrape in this exercise\n",
    "url = 'https://www.emsc-csem.org/Earthquake/'\n",
    "html = requests.get(url).content\n",
    "soup = BeautifulSoup(html, 'lxml')\n",
    "\n",
    "\n",
    "\n",
    "location = []\n",
    "latitude_longitude = []\n",
    "\n",
    "\n",
    "\n",
    "tags_loc = soup.find_all('td', {'class': 'tb_region'})\n",
    "loc = [element.text for element in tags_loc]\n",
    "\n",
    "tags_lat_long = soup.find_all('td', {'class': 'tabev1'})\n",
    "lat_long = [element.text for element in tags_lat_long]\n",
    "\n",
    "tags_date_time = soup.find_all('td', {'class': 'tabev6'})\n",
    "date_time = [element.text for element in tags_date_time]\n",
    "\n",
    "\n",
    "\n",
    "\n",
    "for i in loc:\n",
    "    i = i.strip().replace('\\xa0', '')\n",
    "    location.append(i)\n",
    "    \n",
    "for i in lat_long:\n",
    "    i = i.strip().replace('\\xa0', '')\n",
    "    latitude_longitude.append(i)\n",
    "    \n",
    "for i in date_time:\n",
    "    i = i.strip().replace('\\xa0', '')\n",
    "    latitude_longitude.append(i)\n",
    "\n",
    "\n",
    "    \n",
    "    \n",
    "lon = list()\n",
    "lat = list()\n",
    "for i in range(0,len(latitude_longitude)-1,2):\n",
    "    lat.append(latitude_longitude[i])\n",
    "    lon.append(latitude_longitude[i+1])\n",
    "    \n",
    "\n",
    "date_time\n"
   ]
  },
  {
   "cell_type": "code",
   "execution_count": null,
   "metadata": {},
   "outputs": [],
   "source": [
    "#your code"
   ]
  },
  {
   "cell_type": "markdown",
   "metadata": {},
   "source": [
    "#### Display the date, days, title, city, country of next 25 hackathon events as a Pandas dataframe table"
   ]
  },
  {
   "cell_type": "code",
   "execution_count": null,
   "metadata": {},
   "outputs": [],
   "source": [
    "# This is the url you will scrape in this exercise\n",
    "url ='https://hackevents.co/hackathons'"
   ]
  },
  {
   "cell_type": "code",
   "execution_count": null,
   "metadata": {},
   "outputs": [],
   "source": [
    "#your code"
   ]
  },
  {
   "cell_type": "markdown",
   "metadata": {},
   "source": [
    "#### Count number of tweets by a given Twitter account."
   ]
  },
  {
   "cell_type": "markdown",
   "metadata": {},
   "source": [
    "You will need to include a ***try/except block*** for account names not found. \n",
    "<br>***Hint:*** the program should count the number of tweets for any provided account"
   ]
  },
  {
   "cell_type": "code",
   "execution_count": null,
   "metadata": {},
   "outputs": [],
   "source": [
    "# This is the url you will scrape in this exercise \n",
    "# You will need to add the account credentials to this url\n",
    "url = 'https://twitter.com/'"
   ]
  },
  {
   "cell_type": "code",
   "execution_count": null,
   "metadata": {},
   "outputs": [],
   "source": [
    "#your code"
   ]
  },
  {
   "cell_type": "markdown",
   "metadata": {},
   "source": [
    "#### Number of followers of a given twitter account"
   ]
  },
  {
   "cell_type": "markdown",
   "metadata": {},
   "source": [
    "You will need to include a ***try/except block*** in case account/s name not found. \n",
    "<br>***Hint:*** the program should count the followers for any provided account"
   ]
  },
  {
   "cell_type": "code",
   "execution_count": null,
   "metadata": {},
   "outputs": [],
   "source": [
    "# This is the url you will scrape in this exercise \n",
    "# You will need to add the account credentials to this url\n",
    "url = 'https://twitter.com/'"
   ]
  },
  {
   "cell_type": "code",
   "execution_count": null,
   "metadata": {},
   "outputs": [],
   "source": [
    "#your code"
   ]
  },
  {
   "cell_type": "markdown",
   "metadata": {},
   "source": [
    "#### List all language names and number of related articles in the order they appear in wikipedia.org"
   ]
  },
  {
   "cell_type": "code",
   "execution_count": null,
   "metadata": {},
   "outputs": [],
   "source": [
    "# This is the url you will scrape in this exercise\n",
    "url = 'https://www.wikipedia.org/'"
   ]
  },
  {
   "cell_type": "code",
   "execution_count": null,
   "metadata": {},
   "outputs": [],
   "source": [
    "#your code"
   ]
  },
  {
   "cell_type": "markdown",
   "metadata": {},
   "source": [
    "#### A list with the different kind of datasets available in data.gov.uk "
   ]
  },
  {
   "cell_type": "code",
   "execution_count": null,
   "metadata": {},
   "outputs": [],
   "source": [
    "# This is the url you will scrape in this exercise\n",
    "url = 'https://data.gov.uk/'"
   ]
  },
  {
   "cell_type": "code",
   "execution_count": null,
   "metadata": {},
   "outputs": [],
   "source": [
    "#your code "
   ]
  },
  {
   "cell_type": "markdown",
   "metadata": {},
   "source": [
    "#### Top 10 languages by number of native speakers stored in a Pandas Dataframe"
   ]
  },
  {
   "cell_type": "code",
   "execution_count": null,
   "metadata": {},
   "outputs": [],
   "source": [
    "# This is the url you will scrape in this exercise\n",
    "url = 'https://en.wikipedia.org/wiki/List_of_languages_by_number_of_native_speakers'"
   ]
  },
  {
   "cell_type": "code",
   "execution_count": null,
   "metadata": {},
   "outputs": [],
   "source": [
    "#your code"
   ]
  },
  {
   "cell_type": "markdown",
   "metadata": {},
   "source": [
    "### BONUS QUESTIONS"
   ]
  },
  {
   "cell_type": "markdown",
   "metadata": {},
   "source": [
    "#### Scrape a certain number of tweets of a given Twitter account."
   ]
  },
  {
   "cell_type": "code",
   "execution_count": null,
   "metadata": {},
   "outputs": [],
   "source": [
    "# This is the url you will scrape in this exercise \n",
    "# You will need to add the account credentials to this url\n",
    "url = 'https://twitter.com/'"
   ]
  },
  {
   "cell_type": "code",
   "execution_count": null,
   "metadata": {},
   "outputs": [],
   "source": [
    "# your code"
   ]
  },
  {
   "cell_type": "markdown",
   "metadata": {},
   "source": [
    "#### IMDB's Top 250 data (movie name, Initial release, director name and stars) as a pandas dataframe"
   ]
  },
  {
   "cell_type": "code",
   "execution_count": null,
   "metadata": {},
   "outputs": [],
   "source": [
    "# This is the url you will scrape in this exercise \n",
    "url = 'https://www.imdb.com/chart/top'"
   ]
  },
  {
   "cell_type": "code",
   "execution_count": null,
   "metadata": {},
   "outputs": [],
   "source": [
    "# your code"
   ]
  },
  {
   "cell_type": "markdown",
   "metadata": {},
   "source": [
    "#### Movie name, year and a brief summary of the top 10 random movies (IMDB) as a pandas dataframe."
   ]
  },
  {
   "cell_type": "code",
   "execution_count": null,
   "metadata": {},
   "outputs": [],
   "source": [
    "#This is the url you will scrape in this exercise\n",
    "url = 'http://www.imdb.com/chart/top'"
   ]
  },
  {
   "cell_type": "code",
   "execution_count": null,
   "metadata": {},
   "outputs": [],
   "source": [
    "#your code"
   ]
  },
  {
   "cell_type": "markdown",
   "metadata": {},
   "source": [
    "#### Find the live weather report (temperature, wind speed, description and weather) of a given city."
   ]
  },
  {
   "cell_type": "code",
   "execution_count": null,
   "metadata": {},
   "outputs": [],
   "source": [
    "#https://openweathermap.org/current\n",
    "city = city=input('Enter the city:')\n",
    "url = 'http://api.openweathermap.org/data/2.5/weather?'+'q='+city+'&APPID=b35975e18dc93725acb092f7272cc6b8&units=metric'"
   ]
  },
  {
   "cell_type": "code",
   "execution_count": null,
   "metadata": {},
   "outputs": [],
   "source": [
    "# your code"
   ]
  },
  {
   "cell_type": "markdown",
   "metadata": {},
   "source": [
    "#### Book name,price and stock availability as a pandas dataframe."
   ]
  },
  {
   "cell_type": "code",
   "execution_count": null,
   "metadata": {},
   "outputs": [],
   "source": [
    "# This is the url you will scrape in this exercise. \n",
    "# It is a fictional bookstore created to be scraped. \n",
    "url = 'http://books.toscrape.com/'"
   ]
  },
  {
   "cell_type": "code",
   "execution_count": null,
   "metadata": {},
   "outputs": [],
   "source": [
    "#your code"
   ]
  },
  {
   "cell_type": "code",
   "execution_count": 211,
   "metadata": {},
   "outputs": [
    {
     "data": {
      "text/plain": [
       "['Jean Gauch',\n",
       " 'NHL',\n",
       " 'WC',\n",
       " 'OG',\n",
       " 'SHL',\n",
       " 'Allsvenskan',\n",
       " 'Liiga',\n",
       " 'KHL',\n",
       " 'AHL',\n",
       " 'DEL',\n",
       " '\\n                            #1\\n                        ',\n",
       " '\\n                            Christer Abrahamsson (G)\\n                        ',\n",
       " '\\n                            #2\\n                        ',\n",
       " '\\n                            Åke Lassas (D)\\n                        ',\n",
       " '\\n                            #2\\n                        ',\n",
       " '\\n                            Tomas Jonsson (D)\\n                        ',\n",
       " '\\n                            #3\\n                        ',\n",
       " '\\n                            Vilgot Larsson (D)\\n                        ',\n",
       " '\\n                            #6\\n                        ',\n",
       " '\\n                            Thommy Abrahamsson (D)\\n                        ',\n",
       " '\\n                            #8\\n                        ',\n",
       " '\\n                            Magnus Svensson (D)\\n                        ',\n",
       " '\\n                            #12\\n                        ',\n",
       " '\\n                            Mats Åhlberg (F)\\n                        ',\n",
       " '\\n                            #15\\n                        ',\n",
       " '\\n                            Dan Söderström (F)\\n                        ',\n",
       " '\\n                            #16\\n                        ',\n",
       " '\\n                            Niklas Eriksson (F)\\n                        ',\n",
       " '\\n                            #18\\n                        ',\n",
       " '\\n                            Jonas Bergqvist (F)\\n                        ',\n",
       " '\\n                            #22\\n                        ',\n",
       " '\\n                            Nils Nilsson (F)\\n                        ',\n",
       " '\\n                            1924\\n                        ',\n",
       " '\\n                            Ingemar Söderberg (G)\\n                        ',\n",
       " '\\n                            1924\\n                        ',\n",
       " '\\n                            Åke Lassas (D)\\n                        ',\n",
       " '\\n                            1929\\n                        ',\n",
       " '\\n                            Stig Påvels (F)\\n                        ',\n",
       " '\\n                            1932\\n                        ',\n",
       " '\\n                            Sigurd Bröms (F)\\n                        ',\n",
       " '\\n                            1932\\n                        ',\n",
       " '\\n                            Vilgot Larsson (D)\\n                        ',\n",
       " '\\n                            1944\\n                        ',\n",
       " '\\n                            Folke Bengtsson (F)\\n                        ',\n",
       " '\\n                            1944\\n                        ',\n",
       " '\\n                            Lars-Erik Sjöberg (D)\\n                        ',\n",
       " '\\n                            1944\\n                        ',\n",
       " '\\n                            Roland Bond (D)\\n                        ',\n",
       " '\\n                            1944\\n                        ',\n",
       " '\\n                            Gunnar Andersson (D)\\n                        ',\n",
       " '\\n                            1945\\n                        ',\n",
       " '\\n                            Ulf Mårtensson (F)\\n                        ',\n",
       " '\\n                            1947\\n                        ',\n",
       " '\\n                            Thommy Abrahamsson (D)\\n                        ',\n",
       " '\\n                            1947\\n                        ',\n",
       " '\\n                            Christer Abrahamsson (G)\\n                        ',\n",
       " '\\n                            1947\\n                        ',\n",
       " '\\n                            Mats Åhlberg (F)\\n                        ',\n",
       " '\\n                            1948\\n                        ',\n",
       " '\\n                            Hans Jax (F)\\n                        ',\n",
       " '\\n                            1948\\n                        ',\n",
       " '\\n                            Dan Söderström (F)\\n                        ',\n",
       " '\\n                            1950\\n                        ',\n",
       " '\\n                            Per-Olov Brasar (F)\\n                        ',\n",
       " '\\n                            1951\\n                        ',\n",
       " '\\n                            Dan Labraaten (F)\\n                        ',\n",
       " '\\n                            1952\\n                        ',\n",
       " '\\n                            Ulf Weinstock (D)\\n                        ',\n",
       " '\\n                            1954\\n                        ',\n",
       " '\\n                            Roland Eriksson (F)\\n                        ',\n",
       " '\\n                            1954\\n                        ',\n",
       " '\\n                            Göran Högosta (G)\\n                        ',\n",
       " '\\n                            1954\\n                        ',\n",
       " '\\n                            Per-Arne Alexandersson (F)\\n                        ',\n",
       " '\\n                            1955\\n                        ',\n",
       " '\\n                            Ivan Hansen (F)\\n                        ',\n",
       " '\\n                            1955\\n                        ',\n",
       " '\\n                            Bengt Lundholm (F)\\n                        ',\n",
       " '\\n                            1956\\n                        ',\n",
       " '\\n                            Kari Eloranta (D)\\n                        ',\n",
       " '\\n                            1957\\n                        ',\n",
       " '\\n                            Erkki Laine (F)\\n                        ',\n",
       " '\\n                            1958\\n                        ',\n",
       " '\\n                            Kjell Samuelsson (D)\\n                        ',\n",
       " '\\n                            1960\\n                        ',\n",
       " '\\n                            Tomas Jonsson (D)\\n                        ',\n",
       " '\\n                            1960\\n                        ',\n",
       " '\\n                            Thomas Steen (F)\\n                        ',\n",
       " '\\n                            1960\\n                        ',\n",
       " '\\n                            Jarmo Mäkitalo (F)\\n                        ',\n",
       " '\\n                            1960\\n                        ',\n",
       " '\\n                            Anders Carlsson (F)\\n                        ',\n",
       " '\\n                            1962\\n                        ',\n",
       " '\\n                            Peter Åslin (G)\\n                        ',\n",
       " '\\n                            1962\\n                        ',\n",
       " '\\n                            Jonas Bergqvist (F)\\n                        ',\n",
       " '\\n                            1963\\n                        ',\n",
       " '\\n                            Magnus Svensson (D)\\n                        ',\n",
       " '\\n                            1963\\n                        ',\n",
       " '\\n                            Per-Erik Eklund (F)\\n                        ',\n",
       " '\\n                            1964\\n                        ',\n",
       " '\\n                            Ulf Samuelsson (D)\\n                        ',\n",
       " '\\n                            1965\\n                        ',\n",
       " '\\n                            Ed Belfour (G)\\n                        ',\n",
       " '\\n                            1966\\n                        ',\n",
       " '\\n                            Heinz Ehlers (F)\\n                        ',\n",
       " '\\n                            1966\\n                        ',\n",
       " '\\n                            Mike Stapleton (F)\\n                        ',\n",
       " '\\n                            1966\\n                        ',\n",
       " '\\n                            Robert Burakovsky (F)\\n                        ',\n",
       " '\\n                            1967\\n                        ',\n",
       " '\\n                            Greg Parks (F)\\n                        ',\n",
       " '\\n                            1968\\n                        ',\n",
       " '\\n                            Greg Brown (D)\\n                        ',\n",
       " '\\n                            1968\\n                        ',\n",
       " '\\n                            Thomas Forslund (F)\\n                        ',\n",
       " '\\n                            1969\\n                        ',\n",
       " '\\n                            Niklas Eriksson (F)\\n                        ',\n",
       " '\\n                            1969\\n                        ',\n",
       " '\\n                            Ricard Persson (D)\\n                        ',\n",
       " '\\n                            1969\\n                        ',\n",
       " '\\n                            Jens Nielsen (F)\\n                        ',\n",
       " '\\n                            1970\\n                        ',\n",
       " '\\n                            Stefan Hellkvist (F)\\n                        ',\n",
       " '\\n                            1971\\n                        ',\n",
       " '\\n                            Thomas Rhodin (D)\\n                        ',\n",
       " '\\n                            1971\\n                        ',\n",
       " '\\n                            Mikael Karlberg (F)\\n                        ',\n",
       " '\\n                            1973\\n                        ',\n",
       " '\\n                            Johan Hedberg (G)\\n                        ',\n",
       " '\\n                            1973\\n                        ',\n",
       " '\\n                            Róbert Petrovický (F)\\n                        ',\n",
       " '\\n                            1974\\n                        ',\n",
       " '\\n                            Juha Lind (F)\\n                        ',\n",
       " '\\n                            1974\\n                        ',\n",
       " '\\n                            Jan Huokko (D)\\n                        ',\n",
       " '\\n                            1974\\n                        ',\n",
       " '\\n                            Peter Nordström (F)\\n                        ',\n",
       " '\\n                            1975\\n                        ',\n",
       " '\\n                            Pelle Prestberg (F)\\n                        ',\n",
       " '\\n                            1975\\n                        ',\n",
       " '\\n                            Stefan Bergqvist (D)\\n                        ',\n",
       " '\\n                            1975\\n                        ',\n",
       " '\\n                            Andreas Karlsson (F)\\n                        ',\n",
       " '\\n                            1975\\n                        ',\n",
       " '\\n                            Francis Bouillon (D)\\n                        ',\n",
       " '\\n                            1977\\n                        ',\n",
       " '\\n                            Antti-Jussi Niemi (D)\\n                        ',\n",
       " '\\n                            1978\\n                        ',\n",
       " '\\n                            Ric Jackman (D)\\n                        ',\n",
       " '\\n                            1979\\n                        ',\n",
       " '\\n                            Niklas Persson (F)\\n                        ',\n",
       " '\\n                            1980\\n                        ',\n",
       " '\\n                            Michael Ryder (F)\\n                        ',\n",
       " '\\n                            1980\\n                        ',\n",
       " '\\n                            Jens Bergenström (F)\\n                        ',\n",
       " '\\n                            1981\\n                        ',\n",
       " '\\n                            Johan Backlund (G)\\n                        ',\n",
       " '\\n                            1982\\n                        ',\n",
       " '\\n                            Lars Jonsson (D)\\n                        ',\n",
       " '\\n                            1982\\n                        ',\n",
       " '\\n                            Daniel Widing (F)\\n                        ',\n",
       " '\\n                            1982\\n                        ',\n",
       " '\\n                            Jonas Nordqvist (F)\\n                        ',\n",
       " '\\n                            1985\\n                        ',\n",
       " '\\n                            Robert Nilsson (F)\\n                        ',\n",
       " '\\n                            1991\\n                        ',\n",
       " '\\n                            Oliver Ekman Larsson (D)\\n                        ',\n",
       " '\\n                            1994\\n                        ',\n",
       " '\\n                            Filip Forsberg (F)\\n                        ',\n",
       " '\\n                        471 players\\n                    ',\n",
       " '\\n                        39 players\\n                    ',\n",
       " '\\n                        29 players\\n                    ',\n",
       " '\\n                        15 players\\n                    ',\n",
       " '\\n                        13 players\\n                    ',\n",
       " '\\n                        12 players\\n                    ',\n",
       " '\\n                        11 players\\n                    ',\n",
       " '\\n                        7 players\\n                    ',\n",
       " '\\n                        3 players\\n                    ',\n",
       " '\\n                        3 players\\n                    ',\n",
       " '\\n                        2 players\\n                    ',\n",
       " '\\n                        2 players\\n                    ',\n",
       " '\\n                        2 players\\n                    ',\n",
       " '\\n                        1 player\\n                    ',\n",
       " '\\n                        1 player\\n                    ',\n",
       " '\\n                        1 player\\n                    ']"
      ]
     },
     "execution_count": 211,
     "metadata": {},
     "output_type": "execute_result"
    }
   ],
   "source": [
    "url = 'https://www.eliteprospects.com/team/28/leksands-if'\n",
    "\n",
    "html = requests.get(url).content\n",
    "soup = BeautifulSoup(html, 'lxml')\n",
    "\n",
    "tags = soup.find_all('a', {'class': 'txt-blue'})\n",
    "\n",
    "p_id = [element.text for element in tags]\n",
    "\n",
    "spelare = []\n",
    "\n",
    "'''for i in p_id:\n",
    "    i = i.strip().replace('\\n', '')\n",
    "    spelare.append(i)'''\n",
    "\n",
    "p_id\n",
    "    "
   ]
  }
 ],
 "metadata": {
  "kernelspec": {
   "display_name": "Python 3",
   "language": "python",
   "name": "python3"
  },
  "language_info": {
   "codemirror_mode": {
    "name": "ipython",
    "version": 3
   },
   "file_extension": ".py",
   "mimetype": "text/x-python",
   "name": "python",
   "nbconvert_exporter": "python",
   "pygments_lexer": "ipython3",
   "version": "3.7.3"
  }
 },
 "nbformat": 4,
 "nbformat_minor": 2
}
