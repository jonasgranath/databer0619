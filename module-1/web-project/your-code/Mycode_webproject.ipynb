{
 "cells": [
  {
   "cell_type": "code",
   "execution_count": 1,
   "metadata": {},
   "outputs": [],
   "source": [
    "## GETTING FED PRESS RELEASE DATA FROM API ## \n",
    "import re\n",
    "import pandas as pd\n",
    "import json\n",
    "import requests\n",
    "from pandas.io.json import json_normalize \n",
    "from bs4 import BeautifulSoup"
   ]
  },
  {
   "cell_type": "code",
   "execution_count": 7,
   "metadata": {},
   "outputs": [],
   "source": [
    "## GETTING FED PRESS RELEASE DATA FROM API ## \n",
    "# API url 1 \n",
    "url = 'https://api.stlouisfed.org/fred/releases/dates?api_key=fd437ad882dcc783832cb4b788e6430e&file_type=json'\n",
    "\n",
    "response = requests.get(url)\n",
    "results = response.json()\n",
    "#results = results[\"dataset\"][\"data\"]\n",
    "df = pd.DataFrame(results['release_dates'])\n",
    "\n",
    "df.to_csv ( \"./Output/press_releases.csv\", index = None, header=True)\n",
    "\n"
   ]
  },
  {
   "cell_type": "code",
   "execution_count": 8,
   "metadata": {},
   "outputs": [],
   "source": [
    "# Get textmessage\n",
    "url = 'https://twitter.com/realdonaldtrump'\n",
    "html = requests.get(url).content\n",
    "soup = BeautifulSoup(html, 'lxml')\n",
    "tags = soup.find_all('p', {'class':'TweetTextSize TweetTextSize--normal js-tweet-text tweet-text'})\n",
    "tw_raw = [element.text for element in tags]\n",
    "\n",
    "#Get timestamp\n",
    "url2 = 'https://twitter.com/realdonaldtrump'\n",
    "html = requests.get(url2).content\n",
    "soup = BeautifulSoup(html, 'lxml')\n",
    "tags = soup.find_all('span' , {'_timestamp js-short-timestamp js-relative-timestamp'})\n",
    "time_raw = [element for element in tags]\n",
    "time = re.findall('\\d\\d\\d\\d\\d\\d\\d\\d\\d\\d', str(time_raw))\n",
    "time = pd.to_datetime(time ,unit='s')\n",
    "\n",
    "\n",
    "# Create dataframe\n",
    "df_new =pd.DataFrame([tw_raw, time])\n",
    "df_new = df_new.transpose()\n",
    "df_new = df_new.rename(columns={0: \"text\", 1: \"created_at\"})\n",
    "\n",
    "df_new.to_csv ( \"./Output/twitter_database.csv\", index = None, header=True)\n"
   ]
  }
 ],
 "metadata": {
  "kernelspec": {
   "display_name": "Python 3",
   "language": "python",
   "name": "python3"
  },
  "language_info": {
   "codemirror_mode": {
    "name": "ipython",
    "version": 3
   },
   "file_extension": ".py",
   "mimetype": "text/x-python",
   "name": "python",
   "nbconvert_exporter": "python",
   "pygments_lexer": "ipython3",
   "version": "3.7.3"
  }
 },
 "nbformat": 4,
 "nbformat_minor": 2
}
